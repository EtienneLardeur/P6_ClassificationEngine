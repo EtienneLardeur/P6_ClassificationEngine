{
 "cells": [
  {
   "cell_type": "markdown",
   "metadata": {
    "toc": true
   },
   "source": [
    "<h1>Table of Contents<span class=\"tocSkip\"></span></h1>\n",
    "<div class=\"toc\"><ul class=\"toc-item\"><li><span><a href=\"#Introduction\" data-toc-modified-id=\"Introduction-1\">Introduction</a></span></li><li><span><a href=\"#1.-EDA\" data-toc-modified-id=\"1.-EDA-2\">1. EDA</a></span></li><li><span><a href=\"#2.-Features-Selection-&amp;-Engineering\" data-toc-modified-id=\"2.-Features-Selection-&amp;-Engineering-3\">2. Features Selection &amp; Engineering</a></span><ul class=\"toc-item\"><li><span><a href=\"#2.1.-Clean-target-Product-Category\" data-toc-modified-id=\"2.1.-Clean-target-Product-Category-3.1\">2.1. Clean target Product Category</a></span></li></ul></li><li><span><a href=\"#3.-Pre-processing\" data-toc-modified-id=\"3.-Pre-processing-4\">3. Pre-processing</a></span><ul class=\"toc-item\"><li><span><a href=\"#Text---feature-'description'\" data-toc-modified-id=\"Text---feature-'description'-4.1\">Text - feature 'description'</a></span><ul class=\"toc-item\"><li><ul class=\"toc-item\"><li><span><a href=\"#Normalize\" data-toc-modified-id=\"Normalize-4.1.0.1\">Normalize</a></span></li><li><span><a href=\"#Remove-stop-words-:-pre-study\" data-toc-modified-id=\"Remove-stop-words-:-pre-study-4.1.0.2\">Remove stop words : pre-study</a></span></li><li><span><a href=\"#Tokenize\" data-toc-modified-id=\"Tokenize-4.1.0.3\">Tokenize</a></span></li><li><span><a href=\"#Filter-stop-words\" data-toc-modified-id=\"Filter-stop-words-4.1.0.4\">Filter stop words</a></span></li><li><span><a href=\"#stemming\" data-toc-modified-id=\"stemming-4.1.0.5\">stemming</a></span></li><li><span><a href=\"#Bag-of-Words\" data-toc-modified-id=\"Bag-of-Words-4.1.0.6\">Bag of Words</a></span></li></ul></li></ul></li><li><span><a href=\"#tf-idf-matrix\" data-toc-modified-id=\"tf-idf-matrix-4.2\">tf-idf matrix</a></span></li><li><span><a href=\"#LDA\" data-toc-modified-id=\"LDA-4.3\">LDA</a></span></li><li><span><a href=\"#NMF-(alternative)\" data-toc-modified-id=\"NMF-(alternative)-4.4\">NMF (alternative)</a></span></li></ul></li></ul></div>"
   ]
  },
  {
   "cell_type": "markdown",
   "metadata": {},
   "source": [
    "Etienne Lardeur 2020 - P6 Project Data Scientist - OpenClassrooms"
   ]
  },
  {
   "cell_type": "markdown",
   "metadata": {},
   "source": [
    "# Introduction"
   ]
  },
  {
   "cell_type": "markdown",
   "metadata": {},
   "source": [
    "\"Place de marché\" wishes to launch its e-marketplace, where sellers offers to customers their products to buy, with a picture and details. <br/>\n",
    "Until now, any product is unreliabily attached manually to a category. <br/>\n",
    "The purpose of this Project is to study an automated process to ensure the right attachment of any product to its category : a Classification Engine.<br/>  "
   ]
  },
  {
   "cell_type": "markdown",
   "metadata": {},
   "source": [
    "Raw Data to start study consist in a csv file and 1050 pictures. <br/>\n",
    "First step is to perform an EDA and select an adequate {pre-processing, dimension reducer, clusterer} for any {description, picture} of each product. <br/>"
   ]
  },
  {
   "cell_type": "markdown",
   "metadata": {},
   "source": [
    "Our goal is to provide a visual proof of concept of our classification engine's ability to group products of the same category."
   ]
  },
  {
   "cell_type": "code",
   "execution_count": 1,
   "metadata": {},
   "outputs": [],
   "source": [
    "%load_ext pycodestyle_magic\n",
    "%flake8_on\n",
    "# PEP8 tested"
   ]
  },
  {
   "cell_type": "code",
   "execution_count": 2,
   "metadata": {},
   "outputs": [],
   "source": [
    "import numpy as np\n",
    "import pandas as pd\n",
    "from random import randint\n",
    "import matplotlib.pyplot as plt\n",
    "import plotly.graph_objects as go\n",
    "import seaborn as sns\n",
    "# get the path\n",
    "import os.path\n",
    "# tokenize, vetorize\n",
    "import nltk\n",
    "from nltk.tokenize import word_tokenize\n",
    "from nltk.probability import FreqDist\n",
    "import re\n",
    "from collections import Counter\n",
    "from operator import itemgetter"
   ]
  },
  {
   "cell_type": "markdown",
   "metadata": {},
   "source": [
    "# 1. EDA"
   ]
  },
  {
   "cell_type": "markdown",
   "metadata": {},
   "source": [
    "At this step : is the description we've to work with only the description features, or a set of features we've to select?"
   ]
  },
  {
   "cell_type": "code",
   "execution_count": 3,
   "metadata": {},
   "outputs": [],
   "source": [
    "# read csv file (products description)\n",
    "data = pd.read_csv('data/flipkart_com-ecommerce_sample_1050.csv')"
   ]
  },
  {
   "cell_type": "code",
   "execution_count": 4,
   "metadata": {
    "scrolled": true
   },
   "outputs": [
    {
     "data": {
      "text/html": [
       "<div>\n",
       "<style scoped>\n",
       "    .dataframe tbody tr th:only-of-type {\n",
       "        vertical-align: middle;\n",
       "    }\n",
       "\n",
       "    .dataframe tbody tr th {\n",
       "        vertical-align: top;\n",
       "    }\n",
       "\n",
       "    .dataframe thead th {\n",
       "        text-align: right;\n",
       "    }\n",
       "</style>\n",
       "<table border=\"1\" class=\"dataframe\">\n",
       "  <thead>\n",
       "    <tr style=\"text-align: right;\">\n",
       "      <th></th>\n",
       "      <th>uniq_id</th>\n",
       "      <th>crawl_timestamp</th>\n",
       "      <th>product_url</th>\n",
       "      <th>product_name</th>\n",
       "      <th>product_category_tree</th>\n",
       "      <th>pid</th>\n",
       "      <th>retail_price</th>\n",
       "      <th>discounted_price</th>\n",
       "      <th>image</th>\n",
       "      <th>is_FK_Advantage_product</th>\n",
       "      <th>description</th>\n",
       "      <th>product_rating</th>\n",
       "      <th>overall_rating</th>\n",
       "      <th>brand</th>\n",
       "      <th>product_specifications</th>\n",
       "    </tr>\n",
       "  </thead>\n",
       "  <tbody>\n",
       "    <tr>\n",
       "      <td>755</td>\n",
       "      <td>8872dd7ca802f56c1c3ee07e22e84cfd</td>\n",
       "      <td>2015-12-12 11:46:53 +0000</td>\n",
       "      <td>http://www.flipkart.com/buy-clues-abstract-sin...</td>\n",
       "      <td>Buy Clues Abstract Single Quilts &amp; Comforters ...</td>\n",
       "      <td>[\"Home Furnishing &gt;&gt; Bed Linen &gt;&gt; Blankets, Qu...</td>\n",
       "      <td>BLAEYEFN5HP5EH3Z</td>\n",
       "      <td>2950.0</td>\n",
       "      <td>1349.0</td>\n",
       "      <td>8872dd7ca802f56c1c3ee07e22e84cfd.jpg</td>\n",
       "      <td>False</td>\n",
       "      <td>Buy Buy Clues Abstract Single Quilts &amp; Comfort...</td>\n",
       "      <td>No rating available</td>\n",
       "      <td>No rating available</td>\n",
       "      <td>Buy Clues</td>\n",
       "      <td>{\"product_specification\"=&gt;[{\"key\"=&gt;\"Brand\", \"v...</td>\n",
       "    </tr>\n",
       "    <tr>\n",
       "      <td>329</td>\n",
       "      <td>cb0afa31d9ca796908fde019cd64044d</td>\n",
       "      <td>2015-12-01 06:13:00 +0000</td>\n",
       "      <td>http://www.flipkart.com/asus-rt-ac68u-dual-ban...</td>\n",
       "      <td>Asus RT-AC68U Dual-band Wireless-AC1900 Gigabi...</td>\n",
       "      <td>[\"Computers &gt;&gt; Network Components &gt;&gt; Routers &gt;...</td>\n",
       "      <td>RTRDRDPR9JHCSBGH</td>\n",
       "      <td>25000.0</td>\n",
       "      <td>13390.0</td>\n",
       "      <td>cb0afa31d9ca796908fde019cd64044d.jpg</td>\n",
       "      <td>False</td>\n",
       "      <td>Buy Asus RT-AC68U Dual-band Wireless-AC1900 Gi...</td>\n",
       "      <td>4.3</td>\n",
       "      <td>4.3</td>\n",
       "      <td>Asus</td>\n",
       "      <td>{\"product_specification\"=&gt;[{\"key\"=&gt;\"In The Box...</td>\n",
       "    </tr>\n",
       "    <tr>\n",
       "      <td>128</td>\n",
       "      <td>3ba13df7877fd979d64c87c7586a5ca6</td>\n",
       "      <td>2015-12-01 12:40:44 +0000</td>\n",
       "      <td>http://www.flipkart.com/arsalan-10-5-inch-glas...</td>\n",
       "      <td>Arsalan 10.5 inch Glass Hookah</td>\n",
       "      <td>[\"Home Decor &amp; Festive Needs &gt;&gt; Table Decor &amp; ...</td>\n",
       "      <td>HKHE57EHTMJCH5FT</td>\n",
       "      <td>999.0</td>\n",
       "      <td>349.0</td>\n",
       "      <td>3ba13df7877fd979d64c87c7586a5ca6.jpg</td>\n",
       "      <td>False</td>\n",
       "      <td>Buy Arsalan 10.5 inch Glass Hookah for Rs.349 ...</td>\n",
       "      <td>No rating available</td>\n",
       "      <td>No rating available</td>\n",
       "      <td>Arsalan</td>\n",
       "      <td>{\"product_specification\"=&gt;[{\"key\"=&gt;\"Brand\", \"v...</td>\n",
       "    </tr>\n",
       "  </tbody>\n",
       "</table>\n",
       "</div>"
      ],
      "text/plain": [
       "                              uniq_id            crawl_timestamp  \\\n",
       "755  8872dd7ca802f56c1c3ee07e22e84cfd  2015-12-12 11:46:53 +0000   \n",
       "329  cb0afa31d9ca796908fde019cd64044d  2015-12-01 06:13:00 +0000   \n",
       "128  3ba13df7877fd979d64c87c7586a5ca6  2015-12-01 12:40:44 +0000   \n",
       "\n",
       "                                           product_url  \\\n",
       "755  http://www.flipkart.com/buy-clues-abstract-sin...   \n",
       "329  http://www.flipkart.com/asus-rt-ac68u-dual-ban...   \n",
       "128  http://www.flipkart.com/arsalan-10-5-inch-glas...   \n",
       "\n",
       "                                          product_name  \\\n",
       "755  Buy Clues Abstract Single Quilts & Comforters ...   \n",
       "329  Asus RT-AC68U Dual-band Wireless-AC1900 Gigabi...   \n",
       "128                     Arsalan 10.5 inch Glass Hookah   \n",
       "\n",
       "                                 product_category_tree               pid  \\\n",
       "755  [\"Home Furnishing >> Bed Linen >> Blankets, Qu...  BLAEYEFN5HP5EH3Z   \n",
       "329  [\"Computers >> Network Components >> Routers >...  RTRDRDPR9JHCSBGH   \n",
       "128  [\"Home Decor & Festive Needs >> Table Decor & ...  HKHE57EHTMJCH5FT   \n",
       "\n",
       "     retail_price  discounted_price                                 image  \\\n",
       "755        2950.0            1349.0  8872dd7ca802f56c1c3ee07e22e84cfd.jpg   \n",
       "329       25000.0           13390.0  cb0afa31d9ca796908fde019cd64044d.jpg   \n",
       "128         999.0             349.0  3ba13df7877fd979d64c87c7586a5ca6.jpg   \n",
       "\n",
       "     is_FK_Advantage_product  \\\n",
       "755                    False   \n",
       "329                    False   \n",
       "128                    False   \n",
       "\n",
       "                                           description       product_rating  \\\n",
       "755  Buy Buy Clues Abstract Single Quilts & Comfort...  No rating available   \n",
       "329  Buy Asus RT-AC68U Dual-band Wireless-AC1900 Gi...                  4.3   \n",
       "128  Buy Arsalan 10.5 inch Glass Hookah for Rs.349 ...  No rating available   \n",
       "\n",
       "          overall_rating      brand  \\\n",
       "755  No rating available  Buy Clues   \n",
       "329                  4.3       Asus   \n",
       "128  No rating available    Arsalan   \n",
       "\n",
       "                                product_specifications  \n",
       "755  {\"product_specification\"=>[{\"key\"=>\"Brand\", \"v...  \n",
       "329  {\"product_specification\"=>[{\"key\"=>\"In The Box...  \n",
       "128  {\"product_specification\"=>[{\"key\"=>\"Brand\", \"v...  "
      ]
     },
     "execution_count": 4,
     "metadata": {},
     "output_type": "execute_result"
    }
   ],
   "source": [
    "# content\n",
    "data.sample(3)"
   ]
  },
  {
   "cell_type": "code",
   "execution_count": 5,
   "metadata": {},
   "outputs": [
    {
     "data": {
      "text/plain": [
       "(1050, 15)"
      ]
     },
     "execution_count": 5,
     "metadata": {},
     "output_type": "execute_result"
    }
   ],
   "source": [
    "# size\n",
    "data.shape"
   ]
  },
  {
   "cell_type": "markdown",
   "metadata": {},
   "source": [
    "The file consist in 1050 entries and 15 features, with image containing the name of the picture file (pattern unique_id.jpg)."
   ]
  },
  {
   "cell_type": "code",
   "execution_count": 6,
   "metadata": {
    "scrolled": true
   },
   "outputs": [
    {
     "data": {
      "text/plain": [
       "uniq_id                      0\n",
       "crawl_timestamp              0\n",
       "product_url                  0\n",
       "product_name                 0\n",
       "product_category_tree        0\n",
       "pid                          0\n",
       "retail_price                 1\n",
       "discounted_price             1\n",
       "image                        0\n",
       "is_FK_Advantage_product      0\n",
       "description                  0\n",
       "product_rating               0\n",
       "overall_rating               0\n",
       "brand                      338\n",
       "product_specifications       1\n",
       "dtype: int64"
      ]
     },
     "execution_count": 6,
     "metadata": {},
     "output_type": "execute_result"
    }
   ],
   "source": [
    "# missing data\n",
    "data.isna().sum()"
   ]
  },
  {
   "cell_type": "markdown",
   "metadata": {},
   "source": [
    "Brand name is missing 338 times and seems to be optional in this study (unless it gives an idea of the category!). <br/>\n",
    "We check the products where product_specification or retail_price, discounted_price are missing."
   ]
  },
  {
   "cell_type": "code",
   "execution_count": 7,
   "metadata": {},
   "outputs": [
    {
     "data": {
      "text/html": [
       "<div>\n",
       "<style scoped>\n",
       "    .dataframe tbody tr th:only-of-type {\n",
       "        vertical-align: middle;\n",
       "    }\n",
       "\n",
       "    .dataframe tbody tr th {\n",
       "        vertical-align: top;\n",
       "    }\n",
       "\n",
       "    .dataframe thead th {\n",
       "        text-align: right;\n",
       "    }\n",
       "</style>\n",
       "<table border=\"1\" class=\"dataframe\">\n",
       "  <thead>\n",
       "    <tr style=\"text-align: right;\">\n",
       "      <th></th>\n",
       "      <th>uniq_id</th>\n",
       "      <th>crawl_timestamp</th>\n",
       "      <th>product_url</th>\n",
       "      <th>product_name</th>\n",
       "      <th>product_category_tree</th>\n",
       "      <th>pid</th>\n",
       "      <th>retail_price</th>\n",
       "      <th>discounted_price</th>\n",
       "      <th>image</th>\n",
       "      <th>is_FK_Advantage_product</th>\n",
       "      <th>description</th>\n",
       "      <th>product_rating</th>\n",
       "      <th>overall_rating</th>\n",
       "      <th>brand</th>\n",
       "      <th>product_specifications</th>\n",
       "    </tr>\n",
       "  </thead>\n",
       "  <tbody>\n",
       "    <tr>\n",
       "      <td>957</td>\n",
       "      <td>e488005c7fb68747d3458c7d73760bae</td>\n",
       "      <td>2016-02-24 04:24:17 +0000</td>\n",
       "      <td>http://www.flipkart.com/nutcase-multicolor-col...</td>\n",
       "      <td>Nutcase Multicolor Column Floor Lamp</td>\n",
       "      <td>[\"Home Decor &amp; Festive Needs &gt;&gt; Decorative Lig...</td>\n",
       "      <td>FIOEFUXPJQYZKDXZ</td>\n",
       "      <td>3299.0</td>\n",
       "      <td>1299.0</td>\n",
       "      <td>e488005c7fb68747d3458c7d73760bae.jpg</td>\n",
       "      <td>False</td>\n",
       "      <td>Key Features of Nutcase Multicolor Column Floo...</td>\n",
       "      <td>No rating available</td>\n",
       "      <td>No rating available</td>\n",
       "      <td>Nutcase</td>\n",
       "      <td>NaN</td>\n",
       "    </tr>\n",
       "  </tbody>\n",
       "</table>\n",
       "</div>"
      ],
      "text/plain": [
       "                              uniq_id            crawl_timestamp  \\\n",
       "957  e488005c7fb68747d3458c7d73760bae  2016-02-24 04:24:17 +0000   \n",
       "\n",
       "                                           product_url  \\\n",
       "957  http://www.flipkart.com/nutcase-multicolor-col...   \n",
       "\n",
       "                             product_name  \\\n",
       "957  Nutcase Multicolor Column Floor Lamp   \n",
       "\n",
       "                                 product_category_tree               pid  \\\n",
       "957  [\"Home Decor & Festive Needs >> Decorative Lig...  FIOEFUXPJQYZKDXZ   \n",
       "\n",
       "     retail_price  discounted_price                                 image  \\\n",
       "957        3299.0            1299.0  e488005c7fb68747d3458c7d73760bae.jpg   \n",
       "\n",
       "     is_FK_Advantage_product  \\\n",
       "957                    False   \n",
       "\n",
       "                                           description       product_rating  \\\n",
       "957  Key Features of Nutcase Multicolor Column Floo...  No rating available   \n",
       "\n",
       "          overall_rating    brand product_specifications  \n",
       "957  No rating available  Nutcase                    NaN  "
      ]
     },
     "execution_count": 7,
     "metadata": {},
     "output_type": "execute_result"
    }
   ],
   "source": [
    "data[data['product_specifications'].isna()]"
   ]
  },
  {
   "cell_type": "code",
   "execution_count": 8,
   "metadata": {},
   "outputs": [
    {
     "data": {
      "text/html": [
       "<div>\n",
       "<style scoped>\n",
       "    .dataframe tbody tr th:only-of-type {\n",
       "        vertical-align: middle;\n",
       "    }\n",
       "\n",
       "    .dataframe tbody tr th {\n",
       "        vertical-align: top;\n",
       "    }\n",
       "\n",
       "    .dataframe thead th {\n",
       "        text-align: right;\n",
       "    }\n",
       "</style>\n",
       "<table border=\"1\" class=\"dataframe\">\n",
       "  <thead>\n",
       "    <tr style=\"text-align: right;\">\n",
       "      <th></th>\n",
       "      <th>uniq_id</th>\n",
       "      <th>crawl_timestamp</th>\n",
       "      <th>product_url</th>\n",
       "      <th>product_name</th>\n",
       "      <th>product_category_tree</th>\n",
       "      <th>pid</th>\n",
       "      <th>retail_price</th>\n",
       "      <th>discounted_price</th>\n",
       "      <th>image</th>\n",
       "      <th>is_FK_Advantage_product</th>\n",
       "      <th>description</th>\n",
       "      <th>product_rating</th>\n",
       "      <th>overall_rating</th>\n",
       "      <th>brand</th>\n",
       "      <th>product_specifications</th>\n",
       "    </tr>\n",
       "  </thead>\n",
       "  <tbody>\n",
       "    <tr>\n",
       "      <td>2</td>\n",
       "      <td>64d5d4a258243731dc7bbb1eef49ad74</td>\n",
       "      <td>2016-04-30 03:22:56 +0000</td>\n",
       "      <td>http://www.flipkart.com/eurospa-cotton-terry-f...</td>\n",
       "      <td>Eurospa Cotton Terry Face Towel Set</td>\n",
       "      <td>[\"Baby Care &gt;&gt; Baby Bath &amp; Skin &gt;&gt; Baby Bath T...</td>\n",
       "      <td>BTWEG6SHXTDB2A2Y</td>\n",
       "      <td>NaN</td>\n",
       "      <td>NaN</td>\n",
       "      <td>64d5d4a258243731dc7bbb1eef49ad74.jpg</td>\n",
       "      <td>False</td>\n",
       "      <td>Key Features of Eurospa Cotton Terry Face Towe...</td>\n",
       "      <td>No rating available</td>\n",
       "      <td>No rating available</td>\n",
       "      <td>Eurospa</td>\n",
       "      <td>{\"product_specification\"=&gt;[{\"key\"=&gt;\"Material\",...</td>\n",
       "    </tr>\n",
       "  </tbody>\n",
       "</table>\n",
       "</div>"
      ],
      "text/plain": [
       "                            uniq_id            crawl_timestamp  \\\n",
       "2  64d5d4a258243731dc7bbb1eef49ad74  2016-04-30 03:22:56 +0000   \n",
       "\n",
       "                                         product_url  \\\n",
       "2  http://www.flipkart.com/eurospa-cotton-terry-f...   \n",
       "\n",
       "                          product_name  \\\n",
       "2  Eurospa Cotton Terry Face Towel Set   \n",
       "\n",
       "                               product_category_tree               pid  \\\n",
       "2  [\"Baby Care >> Baby Bath & Skin >> Baby Bath T...  BTWEG6SHXTDB2A2Y   \n",
       "\n",
       "   retail_price  discounted_price                                 image  \\\n",
       "2           NaN               NaN  64d5d4a258243731dc7bbb1eef49ad74.jpg   \n",
       "\n",
       "   is_FK_Advantage_product                                        description  \\\n",
       "2                    False  Key Features of Eurospa Cotton Terry Face Towe...   \n",
       "\n",
       "        product_rating       overall_rating    brand  \\\n",
       "2  No rating available  No rating available  Eurospa   \n",
       "\n",
       "                              product_specifications  \n",
       "2  {\"product_specification\"=>[{\"key\"=>\"Material\",...  "
      ]
     },
     "execution_count": 8,
     "metadata": {},
     "output_type": "execute_result"
    }
   ],
   "source": [
    "data[data['retail_price'].isna()]"
   ]
  },
  {
   "cell_type": "code",
   "execution_count": 9,
   "metadata": {},
   "outputs": [
    {
     "name": "stdout",
     "output_type": "stream",
     "text": [
      "features without duplicate : ['uniq_id', 'product_url', 'product_name', 'pid', 'image', 'description']\n"
     ]
    }
   ],
   "source": [
    "# compare unique values and col lenght to check for any duplicate\n",
    "no_duplicate_feat = [\n",
    "    col for col in data.columns if len(data[col].unique()) == len(data[col])]\n",
    "print(\"features without duplicate : {}\".format(no_duplicate_feat))"
   ]
  },
  {
   "cell_type": "markdown",
   "metadata": {},
   "source": [
    "Among those features, we understang that uniq_id & image (as uniq_id.jpg) are the same identifier, while pid is an alternate id that links to url, built out of numerous features, including this pid."
   ]
  },
  {
   "cell_type": "markdown",
   "metadata": {},
   "source": [
    "Decision to go on with uniq_id. Need to ensure link with pictures files."
   ]
  },
  {
   "cell_type": "markdown",
   "metadata": {},
   "source": [
    "oooh great idea but time consuming, left aside"
   ]
  },
  {
   "cell_type": "markdown",
   "metadata": {},
   "source": [
    "https://careerkarma.com/blog/python-check-if-file-exists/"
   ]
  },
  {
   "cell_type": "code",
   "execution_count": 10,
   "metadata": {},
   "outputs": [],
   "source": [
    "# checking uniq_id & image mapping (consistency)\n",
    "mapping_fail = [\n",
    "    row for row in data.index if str(data['uniq_id']) in str(data['image'])]"
   ]
  },
  {
   "cell_type": "code",
   "execution_count": 11,
   "metadata": {},
   "outputs": [],
   "source": [
    "# checking uniq_id & image mapping (consistency)\n",
    "mapping_fail = []\n",
    "mapping_fail = [\n",
    "    row for row in data.index if not str(data['image']).find(str(data['uniq_id']))]"
   ]
  },
  {
   "cell_type": "code",
   "execution_count": 12,
   "metadata": {},
   "outputs": [
    {
     "data": {
      "text/plain": [
       "0"
      ]
     },
     "execution_count": 12,
     "metadata": {},
     "output_type": "execute_result"
    }
   ],
   "source": [
    "str(data.iloc[0]['image']).find(str(data.iloc[0]['uniq_id']))"
   ]
  },
  {
   "cell_type": "code",
   "execution_count": 13,
   "metadata": {},
   "outputs": [
    {
     "data": {
      "text/plain": [
       "[]"
      ]
     },
     "execution_count": 13,
     "metadata": {},
     "output_type": "execute_result"
    }
   ],
   "source": [
    "mapping_fail"
   ]
  },
  {
   "cell_type": "code",
   "execution_count": 14,
   "metadata": {},
   "outputs": [],
   "source": [
    "# checking image & picture files mapping\n",
    "mapping_fail = []\n",
    "mapping_fail = [\n",
    "    row for row in data.index if os.path.isfile('Data/Images/' + str(data['image']))]"
   ]
  },
  {
   "cell_type": "code",
   "execution_count": 15,
   "metadata": {
    "scrolled": true
   },
   "outputs": [
    {
     "data": {
      "text/plain": [
       "True"
      ]
     },
     "execution_count": 15,
     "metadata": {},
     "output_type": "execute_result"
    }
   ],
   "source": [
    "os.path.isfile('Data/Images/' + str(data.iloc[0]['image']))"
   ]
  },
  {
   "cell_type": "code",
   "execution_count": 16,
   "metadata": {},
   "outputs": [
    {
     "data": {
      "text/plain": [
       "0"
      ]
     },
     "execution_count": 16,
     "metadata": {},
     "output_type": "execute_result"
    }
   ],
   "source": [
    "len(mapping_fail)"
   ]
  },
  {
   "cell_type": "markdown",
   "metadata": {},
   "source": [
    "# 2. Features Selection & Engineering"
   ]
  },
  {
   "cell_type": "markdown",
   "metadata": {},
   "source": [
    "At this step, a minimal selection of input is : image & description, with target to catch within product_category_tree. "
   ]
  },
  {
   "cell_type": "markdown",
   "metadata": {},
   "source": [
    "## 2.1. Clean target Product Category"
   ]
  },
  {
   "cell_type": "markdown",
   "metadata": {},
   "source": [
    "Idea is to extract from the product_category_tree, a list of categories. We've to find the right decomposition's level and the corresponding list to work with. <br/>\n",
    "Our interpretation of a right decomposition's level is the adequate balance of items available to learn from the dataset, i.e. :\n",
    "- enough products available in the train set  <br/>\n",
    "- the less dissimilarity between products of a given category <br/>\n",
    "\n",
    "While the first criteria belongs to basic EDA, the second one is more complex and will be the result of words and picture pre-precessing."
   ]
  },
  {
   "cell_type": "code",
   "execution_count": 17,
   "metadata": {},
   "outputs": [
    {
     "data": {
      "text/plain": [
       "'[\"Home Furnishing >> Curtains & Accessories >> Curtains >> Elegance Polyester Multicolor Abstract Eyelet Do...\"]'"
      ]
     },
     "execution_count": 17,
     "metadata": {},
     "output_type": "execute_result"
    }
   ],
   "source": [
    "# work on category tree\n",
    "data.loc[0, 'product_category_tree']"
   ]
  },
  {
   "cell_type": "code",
   "execution_count": 18,
   "metadata": {},
   "outputs": [
    {
     "data": {
      "text/plain": [
       "112"
      ]
     },
     "execution_count": 18,
     "metadata": {},
     "output_type": "execute_result"
    }
   ],
   "source": [
    "len(data.loc[0, 'product_category_tree'])"
   ]
  },
  {
   "cell_type": "markdown",
   "metadata": {},
   "source": [
    "The tree consists in level separated by \">>\", that may be cut with \"...\""
   ]
  },
  {
   "cell_type": "code",
   "execution_count": 19,
   "metadata": {
    "scrolled": false
   },
   "outputs": [
    {
     "data": {
      "text/plain": [
       "<seaborn.axisgrid.FacetGrid at 0x2973d094dc8>"
      ]
     },
     "execution_count": 19,
     "metadata": {},
     "output_type": "execute_result"
    },
    {
     "data": {
      "image/png": "[encoded data removed]",
      "text/plain": [
       "<Figure size 360x360 with 1 Axes>"
      ]
     },
     "metadata": {
      "needs_background": "light"
     },
     "output_type": "display_data"
    }
   ],
   "source": [
    "# nb of decomposition's levels\n",
    "data['tree_depth'] = data['product_category_tree'].apply(\n",
    "    lambda x: len(x.split('>>')))\n",
    "sns.displot(data['tree_depth'])"
   ]
  },
  {
   "cell_type": "code",
   "execution_count": 20,
   "metadata": {},
   "outputs": [],
   "source": [
    "# flaten category levels\n",
    "cat_levels = []\n",
    "for i in range(1, 8):\n",
    "    cat_levels.append('cat_lvl_'+str(i))"
   ]
  },
  {
   "cell_type": "code",
   "execution_count": 21,
   "metadata": {},
   "outputs": [],
   "source": [
    "# flaten category_tree as levels cat_lvl\n",
    "for index in data.index:\n",
    "    depth = len(\n",
    "        data.loc[\n",
    "            index, 'product_category_tree'].split(\"\\\"\")[1].split(\" >> \"))\n",
    "    for i, lvl in enumerate(cat_levels):\n",
    "        if i + 1 <= depth:\n",
    "            data.loc[\n",
    "                index, lvl] = data.loc[\n",
    "                index, 'product_category_tree'].split(\"\\\"\")[1].split(\" >> \")[i]"
   ]
  },
  {
   "cell_type": "code",
   "execution_count": 22,
   "metadata": {
    "scrolled": false
   },
   "outputs": [
    {
     "data": {
      "text/html": [
       "<div>\n",
       "<style scoped>\n",
       "    .dataframe tbody tr th:only-of-type {\n",
       "        vertical-align: middle;\n",
       "    }\n",
       "\n",
       "    .dataframe tbody tr th {\n",
       "        vertical-align: top;\n",
       "    }\n",
       "\n",
       "    .dataframe thead th {\n",
       "        text-align: right;\n",
       "    }\n",
       "</style>\n",
       "<table border=\"1\" class=\"dataframe\">\n",
       "  <thead>\n",
       "    <tr style=\"text-align: right;\">\n",
       "      <th></th>\n",
       "      <th>uniq_id</th>\n",
       "      <th>crawl_timestamp</th>\n",
       "      <th>product_url</th>\n",
       "      <th>product_name</th>\n",
       "      <th>product_category_tree</th>\n",
       "      <th>pid</th>\n",
       "      <th>retail_price</th>\n",
       "      <th>discounted_price</th>\n",
       "      <th>image</th>\n",
       "      <th>is_FK_Advantage_product</th>\n",
       "      <th>...</th>\n",
       "      <th>brand</th>\n",
       "      <th>product_specifications</th>\n",
       "      <th>tree_depth</th>\n",
       "      <th>cat_lvl_1</th>\n",
       "      <th>cat_lvl_2</th>\n",
       "      <th>cat_lvl_3</th>\n",
       "      <th>cat_lvl_4</th>\n",
       "      <th>cat_lvl_5</th>\n",
       "      <th>cat_lvl_6</th>\n",
       "      <th>cat_lvl_7</th>\n",
       "    </tr>\n",
       "  </thead>\n",
       "  <tbody>\n",
       "    <tr>\n",
       "      <td>0</td>\n",
       "      <td>55b85ea15a1536d46b7190ad6fff8ce7</td>\n",
       "      <td>2016-04-30 03:22:56 +0000</td>\n",
       "      <td>http://www.flipkart.com/elegance-polyester-mul...</td>\n",
       "      <td>Elegance Polyester Multicolor Abstract Eyelet ...</td>\n",
       "      <td>[\"Home Furnishing &gt;&gt; Curtains &amp; Accessories &gt;&gt;...</td>\n",
       "      <td>CRNEG7BKMFFYHQ8Z</td>\n",
       "      <td>1899.0</td>\n",
       "      <td>899.0</td>\n",
       "      <td>55b85ea15a1536d46b7190ad6fff8ce7.jpg</td>\n",
       "      <td>False</td>\n",
       "      <td>...</td>\n",
       "      <td>Elegance</td>\n",
       "      <td>{\"product_specification\"=&gt;[{\"key\"=&gt;\"Brand\", \"v...</td>\n",
       "      <td>4</td>\n",
       "      <td>Home Furnishing</td>\n",
       "      <td>Curtains &amp; Accessories</td>\n",
       "      <td>Curtains</td>\n",
       "      <td>Elegance Polyester Multicolor Abstract Eyelet ...</td>\n",
       "      <td>NaN</td>\n",
       "      <td>NaN</td>\n",
       "      <td>NaN</td>\n",
       "    </tr>\n",
       "    <tr>\n",
       "      <td>1</td>\n",
       "      <td>7b72c92c2f6c40268628ec5f14c6d590</td>\n",
       "      <td>2016-04-30 03:22:56 +0000</td>\n",
       "      <td>http://www.flipkart.com/sathiyas-cotton-bath-t...</td>\n",
       "      <td>Sathiyas Cotton Bath Towel</td>\n",
       "      <td>[\"Baby Care &gt;&gt; Baby Bath &amp; Skin &gt;&gt; Baby Bath T...</td>\n",
       "      <td>BTWEGFZHGBXPHZUH</td>\n",
       "      <td>600.0</td>\n",
       "      <td>449.0</td>\n",
       "      <td>7b72c92c2f6c40268628ec5f14c6d590.jpg</td>\n",
       "      <td>False</td>\n",
       "      <td>...</td>\n",
       "      <td>Sathiyas</td>\n",
       "      <td>{\"product_specification\"=&gt;[{\"key\"=&gt;\"Machine Wa...</td>\n",
       "      <td>5</td>\n",
       "      <td>Baby Care</td>\n",
       "      <td>Baby Bath &amp; Skin</td>\n",
       "      <td>Baby Bath Towels</td>\n",
       "      <td>Sathiyas Baby Bath Towels</td>\n",
       "      <td>Sathiyas Cotton Bath Towel (3 Bath Towel, Red,...</td>\n",
       "      <td>NaN</td>\n",
       "      <td>NaN</td>\n",
       "    </tr>\n",
       "    <tr>\n",
       "      <td>2</td>\n",
       "      <td>64d5d4a258243731dc7bbb1eef49ad74</td>\n",
       "      <td>2016-04-30 03:22:56 +0000</td>\n",
       "      <td>http://www.flipkart.com/eurospa-cotton-terry-f...</td>\n",
       "      <td>Eurospa Cotton Terry Face Towel Set</td>\n",
       "      <td>[\"Baby Care &gt;&gt; Baby Bath &amp; Skin &gt;&gt; Baby Bath T...</td>\n",
       "      <td>BTWEG6SHXTDB2A2Y</td>\n",
       "      <td>NaN</td>\n",
       "      <td>NaN</td>\n",
       "      <td>64d5d4a258243731dc7bbb1eef49ad74.jpg</td>\n",
       "      <td>False</td>\n",
       "      <td>...</td>\n",
       "      <td>Eurospa</td>\n",
       "      <td>{\"product_specification\"=&gt;[{\"key\"=&gt;\"Material\",...</td>\n",
       "      <td>5</td>\n",
       "      <td>Baby Care</td>\n",
       "      <td>Baby Bath &amp; Skin</td>\n",
       "      <td>Baby Bath Towels</td>\n",
       "      <td>Eurospa Baby Bath Towels</td>\n",
       "      <td>Eurospa Cotton Terry Face Towel Set (20 PIECE ...</td>\n",
       "      <td>NaN</td>\n",
       "      <td>NaN</td>\n",
       "    </tr>\n",
       "  </tbody>\n",
       "</table>\n",
       "<p>3 rows × 23 columns</p>\n",
       "</div>"
      ],
      "text/plain": [
       "                            uniq_id            crawl_timestamp  \\\n",
       "0  55b85ea15a1536d46b7190ad6fff8ce7  2016-04-30 03:22:56 +0000   \n",
       "1  7b72c92c2f6c40268628ec5f14c6d590  2016-04-30 03:22:56 +0000   \n",
       "2  64d5d4a258243731dc7bbb1eef49ad74  2016-04-30 03:22:56 +0000   \n",
       "\n",
       "                                         product_url  \\\n",
       "0  http://www.flipkart.com/elegance-polyester-mul...   \n",
       "1  http://www.flipkart.com/sathiyas-cotton-bath-t...   \n",
       "2  http://www.flipkart.com/eurospa-cotton-terry-f...   \n",
       "\n",
       "                                        product_name  \\\n",
       "0  Elegance Polyester Multicolor Abstract Eyelet ...   \n",
       "1                         Sathiyas Cotton Bath Towel   \n",
       "2                Eurospa Cotton Terry Face Towel Set   \n",
       "\n",
       "                               product_category_tree               pid  \\\n",
       "0  [\"Home Furnishing >> Curtains & Accessories >>...  CRNEG7BKMFFYHQ8Z   \n",
       "1  [\"Baby Care >> Baby Bath & Skin >> Baby Bath T...  BTWEGFZHGBXPHZUH   \n",
       "2  [\"Baby Care >> Baby Bath & Skin >> Baby Bath T...  BTWEG6SHXTDB2A2Y   \n",
       "\n",
       "   retail_price  discounted_price                                 image  \\\n",
       "0        1899.0             899.0  55b85ea15a1536d46b7190ad6fff8ce7.jpg   \n",
       "1         600.0             449.0  7b72c92c2f6c40268628ec5f14c6d590.jpg   \n",
       "2           NaN               NaN  64d5d4a258243731dc7bbb1eef49ad74.jpg   \n",
       "\n",
       "   is_FK_Advantage_product  ...     brand  \\\n",
       "0                    False  ...  Elegance   \n",
       "1                    False  ...  Sathiyas   \n",
       "2                    False  ...   Eurospa   \n",
       "\n",
       "                              product_specifications tree_depth  \\\n",
       "0  {\"product_specification\"=>[{\"key\"=>\"Brand\", \"v...          4   \n",
       "1  {\"product_specification\"=>[{\"key\"=>\"Machine Wa...          5   \n",
       "2  {\"product_specification\"=>[{\"key\"=>\"Material\",...          5   \n",
       "\n",
       "         cat_lvl_1               cat_lvl_2         cat_lvl_3  \\\n",
       "0  Home Furnishing  Curtains & Accessories          Curtains   \n",
       "1        Baby Care        Baby Bath & Skin  Baby Bath Towels   \n",
       "2        Baby Care        Baby Bath & Skin  Baby Bath Towels   \n",
       "\n",
       "                                           cat_lvl_4  \\\n",
       "0  Elegance Polyester Multicolor Abstract Eyelet ...   \n",
       "1                          Sathiyas Baby Bath Towels   \n",
       "2                           Eurospa Baby Bath Towels   \n",
       "\n",
       "                                           cat_lvl_5 cat_lvl_6 cat_lvl_7  \n",
       "0                                                NaN       NaN       NaN  \n",
       "1  Sathiyas Cotton Bath Towel (3 Bath Towel, Red,...       NaN       NaN  \n",
       "2  Eurospa Cotton Terry Face Towel Set (20 PIECE ...       NaN       NaN  \n",
       "\n",
       "[3 rows x 23 columns]"
      ]
     },
     "execution_count": 22,
     "metadata": {},
     "output_type": "execute_result"
    }
   ],
   "source": [
    "data.head(3)"
   ]
  },
  {
   "cell_type": "code",
   "execution_count": 23,
   "metadata": {
    "scrolled": true
   },
   "outputs": [
    {
     "name": "stderr",
     "output_type": "stream",
     "text": [
      "C:\\Users\\etien\\Anaconda3\\lib\\site-packages\\ipykernel_launcher.py:4: SettingWithCopyWarning: \n",
      "A value is trying to be set on a copy of a slice from a DataFrame\n",
      "\n",
      "See the caveats in the documentation: http://pandas.pydata.org/pandas-docs/stable/user_guide/indexing.html#returning-a-view-versus-a-copy\n",
      "  after removing the cwd from sys.path.\n"
     ]
    }
   ],
   "source": [
    "# remove unvalid categories (cutted level names)\n",
    "for lvl in cat_levels:\n",
    "    mask = data[lvl].str.contains(r'\\.\\.\\.', na=False)\n",
    "    data[lvl][mask] = np.nan"
   ]
  },
  {
   "cell_type": "code",
   "execution_count": 24,
   "metadata": {},
   "outputs": [
    {
     "data": {
      "text/html": [
       "<div>\n",
       "<style scoped>\n",
       "    .dataframe tbody tr th:only-of-type {\n",
       "        vertical-align: middle;\n",
       "    }\n",
       "\n",
       "    .dataframe tbody tr th {\n",
       "        vertical-align: top;\n",
       "    }\n",
       "\n",
       "    .dataframe thead th {\n",
       "        text-align: right;\n",
       "    }\n",
       "</style>\n",
       "<table border=\"1\" class=\"dataframe\">\n",
       "  <thead>\n",
       "    <tr style=\"text-align: right;\">\n",
       "      <th></th>\n",
       "      <th>uniq_id</th>\n",
       "      <th>crawl_timestamp</th>\n",
       "      <th>product_url</th>\n",
       "      <th>product_name</th>\n",
       "      <th>product_category_tree</th>\n",
       "      <th>pid</th>\n",
       "      <th>retail_price</th>\n",
       "      <th>discounted_price</th>\n",
       "      <th>image</th>\n",
       "      <th>is_FK_Advantage_product</th>\n",
       "      <th>...</th>\n",
       "      <th>brand</th>\n",
       "      <th>product_specifications</th>\n",
       "      <th>tree_depth</th>\n",
       "      <th>cat_lvl_1</th>\n",
       "      <th>cat_lvl_2</th>\n",
       "      <th>cat_lvl_3</th>\n",
       "      <th>cat_lvl_4</th>\n",
       "      <th>cat_lvl_5</th>\n",
       "      <th>cat_lvl_6</th>\n",
       "      <th>cat_lvl_7</th>\n",
       "    </tr>\n",
       "  </thead>\n",
       "  <tbody>\n",
       "    <tr>\n",
       "      <td>0</td>\n",
       "      <td>55b85ea15a1536d46b7190ad6fff8ce7</td>\n",
       "      <td>2016-04-30 03:22:56 +0000</td>\n",
       "      <td>http://www.flipkart.com/elegance-polyester-mul...</td>\n",
       "      <td>Elegance Polyester Multicolor Abstract Eyelet ...</td>\n",
       "      <td>[\"Home Furnishing &gt;&gt; Curtains &amp; Accessories &gt;&gt;...</td>\n",
       "      <td>CRNEG7BKMFFYHQ8Z</td>\n",
       "      <td>1899.0</td>\n",
       "      <td>899.0</td>\n",
       "      <td>55b85ea15a1536d46b7190ad6fff8ce7.jpg</td>\n",
       "      <td>False</td>\n",
       "      <td>...</td>\n",
       "      <td>Elegance</td>\n",
       "      <td>{\"product_specification\"=&gt;[{\"key\"=&gt;\"Brand\", \"v...</td>\n",
       "      <td>4</td>\n",
       "      <td>Home Furnishing</td>\n",
       "      <td>Curtains &amp; Accessories</td>\n",
       "      <td>Curtains</td>\n",
       "      <td>NaN</td>\n",
       "      <td>NaN</td>\n",
       "      <td>NaN</td>\n",
       "      <td>NaN</td>\n",
       "    </tr>\n",
       "    <tr>\n",
       "      <td>1</td>\n",
       "      <td>7b72c92c2f6c40268628ec5f14c6d590</td>\n",
       "      <td>2016-04-30 03:22:56 +0000</td>\n",
       "      <td>http://www.flipkart.com/sathiyas-cotton-bath-t...</td>\n",
       "      <td>Sathiyas Cotton Bath Towel</td>\n",
       "      <td>[\"Baby Care &gt;&gt; Baby Bath &amp; Skin &gt;&gt; Baby Bath T...</td>\n",
       "      <td>BTWEGFZHGBXPHZUH</td>\n",
       "      <td>600.0</td>\n",
       "      <td>449.0</td>\n",
       "      <td>7b72c92c2f6c40268628ec5f14c6d590.jpg</td>\n",
       "      <td>False</td>\n",
       "      <td>...</td>\n",
       "      <td>Sathiyas</td>\n",
       "      <td>{\"product_specification\"=&gt;[{\"key\"=&gt;\"Machine Wa...</td>\n",
       "      <td>5</td>\n",
       "      <td>Baby Care</td>\n",
       "      <td>Baby Bath &amp; Skin</td>\n",
       "      <td>Baby Bath Towels</td>\n",
       "      <td>Sathiyas Baby Bath Towels</td>\n",
       "      <td>NaN</td>\n",
       "      <td>NaN</td>\n",
       "      <td>NaN</td>\n",
       "    </tr>\n",
       "    <tr>\n",
       "      <td>2</td>\n",
       "      <td>64d5d4a258243731dc7bbb1eef49ad74</td>\n",
       "      <td>2016-04-30 03:22:56 +0000</td>\n",
       "      <td>http://www.flipkart.com/eurospa-cotton-terry-f...</td>\n",
       "      <td>Eurospa Cotton Terry Face Towel Set</td>\n",
       "      <td>[\"Baby Care &gt;&gt; Baby Bath &amp; Skin &gt;&gt; Baby Bath T...</td>\n",
       "      <td>BTWEG6SHXTDB2A2Y</td>\n",
       "      <td>NaN</td>\n",
       "      <td>NaN</td>\n",
       "      <td>64d5d4a258243731dc7bbb1eef49ad74.jpg</td>\n",
       "      <td>False</td>\n",
       "      <td>...</td>\n",
       "      <td>Eurospa</td>\n",
       "      <td>{\"product_specification\"=&gt;[{\"key\"=&gt;\"Material\",...</td>\n",
       "      <td>5</td>\n",
       "      <td>Baby Care</td>\n",
       "      <td>Baby Bath &amp; Skin</td>\n",
       "      <td>Baby Bath Towels</td>\n",
       "      <td>Eurospa Baby Bath Towels</td>\n",
       "      <td>NaN</td>\n",
       "      <td>NaN</td>\n",
       "      <td>NaN</td>\n",
       "    </tr>\n",
       "  </tbody>\n",
       "</table>\n",
       "<p>3 rows × 23 columns</p>\n",
       "</div>"
      ],
      "text/plain": [
       "                            uniq_id            crawl_timestamp  \\\n",
       "0  55b85ea15a1536d46b7190ad6fff8ce7  2016-04-30 03:22:56 +0000   \n",
       "1  7b72c92c2f6c40268628ec5f14c6d590  2016-04-30 03:22:56 +0000   \n",
       "2  64d5d4a258243731dc7bbb1eef49ad74  2016-04-30 03:22:56 +0000   \n",
       "\n",
       "                                         product_url  \\\n",
       "0  http://www.flipkart.com/elegance-polyester-mul...   \n",
       "1  http://www.flipkart.com/sathiyas-cotton-bath-t...   \n",
       "2  http://www.flipkart.com/eurospa-cotton-terry-f...   \n",
       "\n",
       "                                        product_name  \\\n",
       "0  Elegance Polyester Multicolor Abstract Eyelet ...   \n",
       "1                         Sathiyas Cotton Bath Towel   \n",
       "2                Eurospa Cotton Terry Face Towel Set   \n",
       "\n",
       "                               product_category_tree               pid  \\\n",
       "0  [\"Home Furnishing >> Curtains & Accessories >>...  CRNEG7BKMFFYHQ8Z   \n",
       "1  [\"Baby Care >> Baby Bath & Skin >> Baby Bath T...  BTWEGFZHGBXPHZUH   \n",
       "2  [\"Baby Care >> Baby Bath & Skin >> Baby Bath T...  BTWEG6SHXTDB2A2Y   \n",
       "\n",
       "   retail_price  discounted_price                                 image  \\\n",
       "0        1899.0             899.0  55b85ea15a1536d46b7190ad6fff8ce7.jpg   \n",
       "1         600.0             449.0  7b72c92c2f6c40268628ec5f14c6d590.jpg   \n",
       "2           NaN               NaN  64d5d4a258243731dc7bbb1eef49ad74.jpg   \n",
       "\n",
       "   is_FK_Advantage_product  ...     brand  \\\n",
       "0                    False  ...  Elegance   \n",
       "1                    False  ...  Sathiyas   \n",
       "2                    False  ...   Eurospa   \n",
       "\n",
       "                              product_specifications tree_depth  \\\n",
       "0  {\"product_specification\"=>[{\"key\"=>\"Brand\", \"v...          4   \n",
       "1  {\"product_specification\"=>[{\"key\"=>\"Machine Wa...          5   \n",
       "2  {\"product_specification\"=>[{\"key\"=>\"Material\",...          5   \n",
       "\n",
       "         cat_lvl_1               cat_lvl_2         cat_lvl_3  \\\n",
       "0  Home Furnishing  Curtains & Accessories          Curtains   \n",
       "1        Baby Care        Baby Bath & Skin  Baby Bath Towels   \n",
       "2        Baby Care        Baby Bath & Skin  Baby Bath Towels   \n",
       "\n",
       "                   cat_lvl_4 cat_lvl_5 cat_lvl_6 cat_lvl_7  \n",
       "0                        NaN       NaN       NaN       NaN  \n",
       "1  Sathiyas Baby Bath Towels       NaN       NaN       NaN  \n",
       "2   Eurospa Baby Bath Towels       NaN       NaN       NaN  \n",
       "\n",
       "[3 rows x 23 columns]"
      ]
     },
     "execution_count": 24,
     "metadata": {},
     "output_type": "execute_result"
    }
   ],
   "source": [
    "data.head(3)"
   ]
  },
  {
   "cell_type": "code",
   "execution_count": 25,
   "metadata": {},
   "outputs": [
    {
     "name": "stdout",
     "output_type": "stream",
     "text": [
      "cat_lvl_1 has 7 valid values\n",
      "cat_lvl_2 has 62 valid values\n",
      "cat_lvl_3 has 239 valid values\n",
      "cat_lvl_4 has 318 valid values\n",
      "cat_lvl_5 has 217 valid values\n",
      "cat_lvl_6 has 96 valid values\n",
      "cat_lvl_7 has 51 valid values\n"
     ]
    }
   ],
   "source": [
    "# see how many valid values are available for each lvl\n",
    "for lvl in cat_levels:\n",
    "    print(lvl + ' has %d valid values' % len(data[lvl].unique()))"
   ]
  },
  {
   "cell_type": "code",
   "execution_count": 26,
   "metadata": {},
   "outputs": [
    {
     "data": {
      "text/plain": [
       "Text(0.5, 1.02, 'Level 1 Prodcut Categories')"
      ]
     },
     "execution_count": 26,
     "metadata": {},
     "output_type": "execute_result"
    },
    {
     "data": {
      "image/png": "[encoded data removed]",
      "text/plain": [
       "<Figure size 360x360 with 1 Axes>"
      ]
     },
     "metadata": {
      "needs_background": "light"
     },
     "output_type": "display_data"
    }
   ],
   "source": [
    "data['cat_lvl_1'].value_counts().plot(\n",
    "    kind='barh',\n",
    "    figsize=(5, 5)).invert_yaxis()\n",
    "plt.xlabel('Nb products', labelpad=14)\n",
    "plt.ylabel('cat labels', labelpad=14)\n",
    "plt.title('Level 1 Prodcut Categories', y=1.02)"
   ]
  },
  {
   "cell_type": "markdown",
   "metadata": {},
   "source": [
    "Each level 1 cat is populated by 1/7 of the products (150 out of 1050). <br/>\n",
    "Next level comes with 62 labels, meaning we could expect an average of 17.5 products. Let's see how is this balanced."
   ]
  },
  {
   "cell_type": "code",
   "execution_count": 27,
   "metadata": {
    "scrolled": false
   },
   "outputs": [
    {
     "data": {
      "image/png": "[encoded data removed]",
      "text/plain": [
       "<Figure size 360x396 with 1 Axes>"
      ]
     },
     "metadata": {
      "needs_background": "light"
     },
     "output_type": "display_data"
    },
    {
     "data": {
      "image/png": "[encoded data removed]",
      "text/plain": [
       "<Figure size 360x324 with 1 Axes>"
      ]
     },
     "metadata": {
      "needs_background": "light"
     },
     "output_type": "display_data"
    },
    {
     "data": {
      "image/png": "[encoded data removed]",
      "text/plain": [
       "<Figure size 360x72 with 1 Axes>"
      ]
     },
     "metadata": {
      "needs_background": "light"
     },
     "output_type": "display_data"
    },
    {
     "data": {
      "image/png": "[encoded data removed]",
      "text/plain": [
       "<Figure size 360x360 with 1 Axes>"
      ]
     },
     "metadata": {
      "needs_background": "light"
     },
     "output_type": "display_data"
    },
    {
     "data": {
      "image/png": "[encoded data removed]",
      "text/plain": [
       "<Figure size 360x396 with 1 Axes>"
      ]
     },
     "metadata": {
      "needs_background": "light"
     },
     "output_type": "display_data"
    },
    {
     "data": {
      "image/png": "[encoded data removed]",
      "text/plain": [
       "<Figure size 360x396 with 1 Axes>"
      ]
     },
     "metadata": {
      "needs_background": "light"
     },
     "output_type": "display_data"
    },
    {
     "data": {
      "image/png": "[encoded data removed]",
      "text/plain": [
       "<Figure size 360x288 with 1 Axes>"
      ]
     },
     "metadata": {
      "needs_background": "light"
     },
     "output_type": "display_data"
    }
   ],
   "source": [
    "for cat in data['cat_lvl_1'].unique():\n",
    "    subset = data[data['cat_lvl_1'] == cat]\n",
    "    size = len(subset['cat_lvl_2'].unique()) / 2\n",
    "    subset['cat_lvl_2'].value_counts().plot(\n",
    "        kind='barh',\n",
    "        figsize=(5, size)).invert_yaxis()\n",
    "    plt.xlabel('Nb products', labelpad=14)\n",
    "    plt.ylabel('subCat ' + str(cat) + ' labels', labelpad=14)\n",
    "    plt.title('Level 2 Product subCat for ' + str(cat), y=1.02)\n",
    "    plt.show()"
   ]
  },
  {
   "cell_type": "markdown",
   "metadata": {},
   "source": [
    "this lead to a quite unbalanced division. "
   ]
  },
  {
   "cell_type": "markdown",
   "metadata": {},
   "source": [
    "if a sublevel contains a sudivision into products with very distinct expected pictures, this would be interesting either to keep those sublevel, or remove the alternate product."
   ]
  },
  {
   "cell_type": "markdown",
   "metadata": {},
   "source": [
    "# 3. Pre-processing"
   ]
  },
  {
   "cell_type": "markdown",
   "metadata": {},
   "source": [
    "## Text - feature 'description'"
   ]
  },
  {
   "cell_type": "markdown",
   "metadata": {},
   "source": [
    "There is a bunch of various ways to pre-process text. We simply get rid of punctuation, switch to lower case, suppress stopwords. Then we compute tf-idf matrix."
   ]
  },
  {
   "cell_type": "markdown",
   "metadata": {},
   "source": [
    "Créer des paires de document (article, highlights)\n",
    "\n",
    "Suppression de la ponctuation\n",
    "\n",
    "Séparation en token en minuscules\n",
    "\n",
    "Suppression des stopwords pour les articles\n",
    "\n",
    "Calcul des fréquences et tf-idf sur les deux types de documents\n",
    "\n",
    "Enregistrement du nouveau jeu de données d’entraînement pour usage ultérieur"
   ]
  },
  {
   "cell_type": "code",
   "execution_count": 28,
   "metadata": {},
   "outputs": [
    {
     "name": "stderr",
     "output_type": "stream",
     "text": [
      "[nltk_data] Downloading package punkt to\n",
      "[nltk_data]     C:\\Users\\etien\\AppData\\Roaming\\nltk_data...\n",
      "[nltk_data]   Package punkt is already up-to-date!\n"
     ]
    },
    {
     "data": {
      "text/plain": [
       "True"
      ]
     },
     "execution_count": 28,
     "metadata": {},
     "output_type": "execute_result"
    }
   ],
   "source": [
    "nltk.download('punkt')"
   ]
  },
  {
   "cell_type": "code",
   "execution_count": 29,
   "metadata": {},
   "outputs": [
    {
     "name": "stderr",
     "output_type": "stream",
     "text": [
      "[nltk_data] Downloading package stopwords to\n",
      "[nltk_data]     C:\\Users\\etien\\AppData\\Roaming\\nltk_data...\n",
      "[nltk_data]   Package stopwords is already up-to-date!\n"
     ]
    },
    {
     "data": {
      "text/plain": [
       "True"
      ]
     },
     "execution_count": 29,
     "metadata": {},
     "output_type": "execute_result"
    }
   ],
   "source": [
    "nltk.download('stopwords')"
   ]
  },
  {
   "cell_type": "code",
   "execution_count": 30,
   "metadata": {},
   "outputs": [],
   "source": [
    "# descriptions to work with\n",
    "descriptions = data['description'].to_list()"
   ]
  },
  {
   "cell_type": "code",
   "execution_count": 31,
   "metadata": {},
   "outputs": [
    {
     "data": {
      "text/plain": [
       "'Specifications of Sathiyas Cotton Bath Towel (3 Bath Towel, Red, Yellow, Blue) Bath Towel Features Machine Washable Yes Material Cotton Design Self Design General Brand Sathiyas Type Bath Towel GSM 500 Model Name Sathiyas cotton bath towel Ideal For Men, Women, Boys, Girls Model ID asvtwl322 Color Red, Yellow, Blue Size Mediam Dimensions Length 30 inch Width 60 inch In the Box Number of Contents in Sales Package 3 Sales Package 3 Bath Towel'"
      ]
     },
     "execution_count": 31,
     "metadata": {},
     "output_type": "execute_result"
    }
   ],
   "source": [
    "# pick a description randomly\n",
    "descriptions[randint(0, 1050)]"
   ]
  },
  {
   "cell_type": "markdown",
   "metadata": {},
   "source": [
    "#### Normalize \n",
    "Switch to lower case and filter on alphabetic without punctuation."
   ]
  },
  {
   "cell_type": "code",
   "execution_count": 32,
   "metadata": {},
   "outputs": [],
   "source": [
    "# lower case\n",
    "descriptions = list(map(str.lower, descriptions))\n",
    "# remove punctuation through regex\n",
    "punctuation = re.compile(r'[_.,;\\/#!?:()&-]+')\n",
    "descriptions = [re.sub(punctuation, ' ', x) for x in descriptions]\n",
    "# remove numeric data\n",
    "numeric = re.compile(r'\\d+')\n",
    "descriptions = [re.sub(numeric, '', x) for x in descriptions]"
   ]
  },
  {
   "cell_type": "markdown",
   "metadata": {},
   "source": [
    "#### Remove stop words : pre-study"
   ]
  },
  {
   "cell_type": "code",
   "execution_count": 33,
   "metadata": {},
   "outputs": [],
   "source": [
    "# gather & tokenize any descriptions\n",
    "any_descriptions = ' '.join(descriptions)\n",
    "words = nltk.word_tokenize(any_descriptions)"
   ]
  },
  {
   "cell_type": "code",
   "execution_count": 34,
   "metadata": {},
   "outputs": [
    {
     "name": "stdout",
     "output_type": "stream",
     "text": [
      "of:1757\n",
      "for:1447\n",
      "the:1363\n",
      "and:1332\n",
      "to:1056\n",
      "in:1053\n",
      "rs:911\n",
      "only:890\n",
      "with:843\n",
      "on:835\n",
      "a:722\n",
      "at:714\n",
      "your:656\n",
      "is:638\n",
      "products:631\n",
      "free:618\n",
      "buy:581\n",
      "delivery:567\n",
      "genuine:564\n",
      "shipping:564\n",
      "cash:564\n",
      "replacement:559\n",
      "cm:543\n",
      "day:540\n",
      "flipkart:481\n"
     ]
    }
   ],
   "source": [
    "# calculate frequency distribution\n",
    "fdist = nltk.FreqDist(words)\n",
    "# Output top 25 words\n",
    "for word, frequency in fdist.most_common(25):\n",
    "    print(u'{}:{}'.format(word, frequency))"
   ]
  },
  {
   "cell_type": "code",
   "execution_count": 35,
   "metadata": {},
   "outputs": [],
   "source": [
    "# set & remove default stopwords\n",
    "default_stopwords = set(nltk.corpus.stopwords.words('english'))\n",
    "words = [word for word in words if word not in default_stopwords]"
   ]
  },
  {
   "cell_type": "code",
   "execution_count": 36,
   "metadata": {
    "scrolled": true
   },
   "outputs": [
    {
     "name": "stdout",
     "output_type": "stream",
     "text": [
      "rs:911\n",
      "products:631\n",
      "free:618\n",
      "buy:581\n",
      "delivery:567\n",
      "genuine:564\n",
      "shipping:564\n",
      "cash:564\n",
      "replacement:559\n",
      "cm:543\n",
      "day:540\n",
      "flipkart:481\n",
      "com:473\n",
      "guarantee:471\n",
      "online:396\n",
      "features:395\n",
      "specifications:371\n",
      "price:352\n",
      "watch:330\n",
      "color:328\n"
     ]
    }
   ],
   "source": [
    "# recalculate frequency distribution\n",
    "fdist = nltk.FreqDist(words)\n",
    "# Output top 20 words\n",
    "custom_stopwords = set()\n",
    "for word, frequency in fdist.most_common(20):\n",
    "    custom_stopwords.add(word)\n",
    "    print(u'{}:{}'.format(word, frequency))"
   ]
  },
  {
   "cell_type": "code",
   "execution_count": 37,
   "metadata": {},
   "outputs": [],
   "source": [
    "words = [word for word in words if word not in custom_stopwords]"
   ]
  },
  {
   "cell_type": "code",
   "execution_count": 38,
   "metadata": {},
   "outputs": [
    {
     "name": "stdout",
     "output_type": "stream",
     "text": [
      "mug:327\n",
      "baby:320\n",
      "pack:317\n",
      "'s:317\n",
      "material:312\n",
      "set:311\n",
      "type:304\n",
      "cotton:299\n",
      "box:292\n",
      "general:288\n",
      "package:269\n",
      "analog:262\n",
      "sales:261\n",
      "number:253\n",
      "warranty:250\n",
      "quality:245\n",
      "details:235\n",
      "product:233\n",
      "brand:232\n",
      "best:230\n"
     ]
    }
   ],
   "source": [
    "# recalculate frequency distribution\n",
    "fdist = nltk.FreqDist(words)\n",
    "# Output top 20 words\n",
    "for word, frequency in fdist.most_common(20):\n",
    "    print(u'{}:{}'.format(word, frequency))"
   ]
  },
  {
   "cell_type": "markdown",
   "metadata": {},
   "source": [
    "we could go back to that step and remove/keep manually custom words, e.g. does watch refers to the product? we should'nt get more than 150 Watches : watch. And we saw a \"'s\" useless word, not removed yet."
   ]
  },
  {
   "cell_type": "markdown",
   "metadata": {},
   "source": [
    "#### Tokenize"
   ]
  },
  {
   "cell_type": "code",
   "execution_count": 39,
   "metadata": {},
   "outputs": [],
   "source": [
    "# tokenize any description\n",
    "tokens = list(map(nltk.word_tokenize, descriptions))"
   ]
  },
  {
   "cell_type": "markdown",
   "metadata": {},
   "source": [
    "#### Filter stop words"
   ]
  },
  {
   "cell_type": "code",
   "execution_count": 40,
   "metadata": {},
   "outputs": [],
   "source": [
    "# remove stop words\n",
    "all_stopwords = custom_stopwords | default_stopwords\n",
    "filtered_tokens = list()\n",
    "for descriptions in tokens:\n",
    "    descriptions_ = list()\n",
    "    for word in descriptions:\n",
    "        if word not in all_stopwords:\n",
    "            descriptions_.append(word)\n",
    "    filtered_tokens.append(descriptions_)"
   ]
  },
  {
   "cell_type": "markdown",
   "metadata": {},
   "source": [
    "#### stemming"
   ]
  },
  {
   "cell_type": "code",
   "execution_count": 41,
   "metadata": {},
   "outputs": [],
   "source": [
    "# compare PorterStemmer and LancasterStemmer effects\n",
    "porter = nltk.stem.PorterStemmer()\n",
    "lancaster = nltk.stem.LancasterStemmer()"
   ]
  },
  {
   "cell_type": "code",
   "execution_count": 42,
   "metadata": {},
   "outputs": [],
   "source": [
    "porter_words = nltk.word_tokenize(porter.stem(any_descriptions))"
   ]
  },
  {
   "cell_type": "code",
   "execution_count": 43,
   "metadata": {},
   "outputs": [
    {
     "data": {
      "text/plain": [
       "77060"
      ]
     },
     "execution_count": 43,
     "metadata": {},
     "output_type": "execute_result"
    }
   ],
   "source": [
    "len(porter_words)"
   ]
  },
  {
   "cell_type": "code",
   "execution_count": 44,
   "metadata": {},
   "outputs": [],
   "source": [
    "lancaster_words = nltk.word_tokenize(lancaster.stem(any_descriptions))"
   ]
  },
  {
   "cell_type": "code",
   "execution_count": 45,
   "metadata": {},
   "outputs": [
    {
     "data": {
      "text/plain": [
       "77060"
      ]
     },
     "execution_count": 45,
     "metadata": {},
     "output_type": "execute_result"
    }
   ],
   "source": [
    "len(lancaster_words)"
   ]
  },
  {
   "cell_type": "markdown",
   "metadata": {},
   "source": [
    "! stemming seems not having any effect on size (no rationalization of words with same \"stem\")"
   ]
  },
  {
   "cell_type": "code",
   "execution_count": 54,
   "metadata": {
    "scrolled": true
   },
   "outputs": [
    {
     "ename": "AttributeError",
     "evalue": "'list' object has no attribute 'lower'",
     "output_type": "error",
     "traceback": [
      "\u001b[1;31m---------------------------------------------------------------------------\u001b[0m",
      "\u001b[1;31mAttributeError\u001b[0m                            Traceback (most recent call last)",
      "\u001b[1;32m<ipython-input-54-fd9ad5b6c2c4>\u001b[0m in \u001b[0;36m<module>\u001b[1;34m\u001b[0m\n\u001b[0;32m      4\u001b[0m     \u001b[0mdescriptions_\u001b[0m \u001b[1;33m=\u001b[0m \u001b[0mlist\u001b[0m\u001b[1;33m(\u001b[0m\u001b[1;33m)\u001b[0m\u001b[1;33m\u001b[0m\u001b[1;33m\u001b[0m\u001b[0m\n\u001b[0;32m      5\u001b[0m     \u001b[1;32mfor\u001b[0m \u001b[0mword\u001b[0m \u001b[1;32min\u001b[0m \u001b[0mdescriptions\u001b[0m\u001b[1;33m:\u001b[0m\u001b[1;33m\u001b[0m\u001b[1;33m\u001b[0m\u001b[0m\n\u001b[1;32m----> 6\u001b[1;33m         \u001b[0mdescriptions_\u001b[0m\u001b[1;33m.\u001b[0m\u001b[0mappend\u001b[0m\u001b[1;33m(\u001b[0m\u001b[0mporter\u001b[0m\u001b[1;33m.\u001b[0m\u001b[0mstem\u001b[0m\u001b[1;33m(\u001b[0m\u001b[0mdescriptions\u001b[0m\u001b[1;33m)\u001b[0m\u001b[1;33m)\u001b[0m\u001b[1;33m\u001b[0m\u001b[1;33m\u001b[0m\u001b[0m\n\u001b[0m\u001b[0;32m      7\u001b[0m     \u001b[0mstemmed_tokens\u001b[0m\u001b[1;33m.\u001b[0m\u001b[0mappend\u001b[0m\u001b[1;33m(\u001b[0m\u001b[0mdescriptions_\u001b[0m\u001b[1;33m)\u001b[0m\u001b[1;33m\u001b[0m\u001b[1;33m\u001b[0m\u001b[0m\n",
      "\u001b[1;32m~\\Anaconda3\\lib\\site-packages\\nltk\\stem\\porter.py\u001b[0m in \u001b[0;36mstem\u001b[1;34m(self, word)\u001b[0m\n\u001b[0;32m    654\u001b[0m \u001b[1;33m\u001b[0m\u001b[0m\n\u001b[0;32m    655\u001b[0m     \u001b[1;32mdef\u001b[0m \u001b[0mstem\u001b[0m\u001b[1;33m(\u001b[0m\u001b[0mself\u001b[0m\u001b[1;33m,\u001b[0m \u001b[0mword\u001b[0m\u001b[1;33m)\u001b[0m\u001b[1;33m:\u001b[0m\u001b[1;33m\u001b[0m\u001b[1;33m\u001b[0m\u001b[0m\n\u001b[1;32m--> 656\u001b[1;33m         \u001b[0mstem\u001b[0m \u001b[1;33m=\u001b[0m \u001b[0mword\u001b[0m\u001b[1;33m.\u001b[0m\u001b[0mlower\u001b[0m\u001b[1;33m(\u001b[0m\u001b[1;33m)\u001b[0m\u001b[1;33m\u001b[0m\u001b[1;33m\u001b[0m\u001b[0m\n\u001b[0m\u001b[0;32m    657\u001b[0m \u001b[1;33m\u001b[0m\u001b[0m\n\u001b[0;32m    658\u001b[0m         \u001b[1;32mif\u001b[0m \u001b[0mself\u001b[0m\u001b[1;33m.\u001b[0m\u001b[0mmode\u001b[0m \u001b[1;33m==\u001b[0m \u001b[0mself\u001b[0m\u001b[1;33m.\u001b[0m\u001b[0mNLTK_EXTENSIONS\u001b[0m \u001b[1;32mand\u001b[0m \u001b[0mword\u001b[0m \u001b[1;32min\u001b[0m \u001b[0mself\u001b[0m\u001b[1;33m.\u001b[0m\u001b[0mpool\u001b[0m\u001b[1;33m:\u001b[0m\u001b[1;33m\u001b[0m\u001b[1;33m\u001b[0m\u001b[0m\n",
      "\u001b[1;31mAttributeError\u001b[0m: 'list' object has no attribute 'lower'"
     ]
    }
   ],
   "source": [
    "# use porter\n",
    "stemmed_tokens = list()\n",
    "for descriptions in filtered_tokens:\n",
    "    descriptions_ = list()\n",
    "    for word in descriptions:\n",
    "        descriptions_.append(porter.stem(descriptions))\n",
    "    stemmed_tokens.append(descriptions_)"
   ]
  },
  {
   "cell_type": "markdown",
   "metadata": {},
   "source": [
    "#### Bag of Words"
   ]
  },
  {
   "cell_type": "code",
   "execution_count": 55,
   "metadata": {},
   "outputs": [],
   "source": [
    "bag_of_words = []\n",
    "\n",
    "for description in filtered_tokens:\n",
    "    bag_of_words.append(Counter(description))"
   ]
  },
  {
   "cell_type": "code",
   "execution_count": 56,
   "metadata": {},
   "outputs": [],
   "source": [
    "bag_of_words = pd.DataFrame.from_records(bag_of_words)"
   ]
  },
  {
   "cell_type": "code",
   "execution_count": 57,
   "metadata": {},
   "outputs": [
    {
     "data": {
      "text/plain": [
       "(1050, 5147)"
      ]
     },
     "execution_count": 57,
     "metadata": {},
     "output_type": "execute_result"
    }
   ],
   "source": [
    "bag_of_words.shape"
   ]
  },
  {
   "cell_type": "code",
   "execution_count": 58,
   "metadata": {},
   "outputs": [],
   "source": [
    "bag_of_words.fillna(0, inplace=True)"
   ]
  },
  {
   "cell_type": "code",
   "execution_count": 59,
   "metadata": {
    "scrolled": true
   },
   "outputs": [
    {
     "data": {
      "text/plain": [
       "stitch         2.0\n",
       "environment    4.0\n",
       "romantic       1.0\n",
       "loving         1.0\n",
       "wrinkle        3.0\n",
       "              ... \n",
       "practice       2.0\n",
       "instruction    2.0\n",
       "uberlyfe       4.0\n",
       "polyvinyl      2.0\n",
       "films          2.0\n",
       "Length: 3564, dtype: float64"
      ]
     },
     "execution_count": 59,
     "metadata": {},
     "output_type": "execute_result"
    }
   ],
   "source": [
    "bag_of_words.sum(axis=0)[bag_of_words.sum(axis=0) < 5]"
   ]
  },
  {
   "cell_type": "code",
   "execution_count": 60,
   "metadata": {},
   "outputs": [],
   "source": [
    "data['word_tk'] = data['description'].apply(nltk.word_tokenize)"
   ]
  },
  {
   "cell_type": "code",
   "execution_count": 61,
   "metadata": {},
   "outputs": [
    {
     "data": {
      "text/plain": [
       "0       [Key, Features, of, Elegance, Polyester, Multi...\n",
       "1       [Specifications, of, Sathiyas, Cotton, Bath, T...\n",
       "2       [Key, Features, of, Eurospa, Cotton, Terry, Fa...\n",
       "3       [Key, Features, of, SANTOSH, ROYAL, FASHION, C...\n",
       "4       [Key, Features, of, Jaipur, Print, Cotton, Flo...\n",
       "                              ...                        \n",
       "1045    [Oren, Empower, Extra, Large, Self, Adhesive, ...\n",
       "1046    [Wallmantra, Large, Vinyl, Sticker, Sticker, (...\n",
       "1047    [Buy, Uberlyfe, Extra, Large, Pigmented, Polyv...\n",
       "1048    [Buy, Wallmantra, Medium, Vinyl, Sticker, Stic...\n",
       "1049    [Buy, Uberlyfe, Large, Vinyl, Sticker, for, Rs...\n",
       "Name: word_tk, Length: 1050, dtype: object"
      ]
     },
     "execution_count": 61,
     "metadata": {},
     "output_type": "execute_result"
    }
   ],
   "source": [
    "data['word_tk']"
   ]
  },
  {
   "cell_type": "markdown",
   "metadata": {},
   "source": [
    "## tf-idf matrix\n",
    "terms importance weighting within one description among all the possible descriptions :\n",
    "- Term Frequency : how often the term occurs within any single description\n",
    "- x Inverse Document Frequency : how rarely are the description where term occurs, accross any drescriptions (inverse log +1)"
   ]
  },
  {
   "cell_type": "code",
   "execution_count": 62,
   "metadata": {},
   "outputs": [],
   "source": [
    "from sklearn.feature_extraction.text import TfidfVectorizer\n",
    "\n",
    "# create tf-idf vectorizer\n",
    "tfidf_matrix_vectorizer = TfidfVectorizer(\n",
    "    strip_accents='unicode',\n",
    "    lowercase=True,\n",
    "    stop_words='english',\n",
    "    analyzer='word',\n",
    "    max_df=0.8,\n",
    "    min_df=2,\n",
    "    ngram_range=(1, 1),\n",
    ")\n",
    "\n",
    "# Application of the tf-idf vectorizer\n",
    "corpus = data['description']\n",
    "matrix = tfidf_matrix_vectorizer.fit_transform(corpus)\n",
    "\n",
    "# densify ?\n",
    "matrix_dense = matrix.todense()"
   ]
  },
  {
   "cell_type": "code",
   "execution_count": 63,
   "metadata": {},
   "outputs": [],
   "source": [
    "matrix_feature_names = tfidf_matrix_vectorizer.get_feature_names()"
   ]
  },
  {
   "cell_type": "code",
   "execution_count": 64,
   "metadata": {},
   "outputs": [
    {
     "data": {
      "text/plain": [
       "<1050x2442 sparse matrix of type '<class 'numpy.float64'>'\n",
       "\twith 32556 stored elements in Compressed Sparse Row format>"
      ]
     },
     "execution_count": 64,
     "metadata": {},
     "output_type": "execute_result"
    }
   ],
   "source": [
    "matrix"
   ]
  },
  {
   "cell_type": "code",
   "execution_count": 65,
   "metadata": {},
   "outputs": [
    {
     "data": {
      "text/plain": [
       "(1050, 2442)"
      ]
     },
     "execution_count": 65,
     "metadata": {},
     "output_type": "execute_result"
    }
   ],
   "source": [
    "matrix_dense.shape"
   ]
  },
  {
   "cell_type": "code",
   "execution_count": 66,
   "metadata": {},
   "outputs": [
    {
     "data": {
      "text/plain": [
       "3400"
      ]
     },
     "execution_count": 66,
     "metadata": {},
     "output_type": "execute_result"
    }
   ],
   "source": [
    "len(tfidf_matrix_vectorizer.stop_words_)"
   ]
  },
  {
   "cell_type": "code",
   "execution_count": 68,
   "metadata": {},
   "outputs": [
    {
     "data": {
      "text/html": [
       "<div>\n",
       "<style scoped>\n",
       "    .dataframe tbody tr th:only-of-type {\n",
       "        vertical-align: middle;\n",
       "    }\n",
       "\n",
       "    .dataframe tbody tr th {\n",
       "        vertical-align: top;\n",
       "    }\n",
       "\n",
       "    .dataframe thead th {\n",
       "        text-align: right;\n",
       "    }\n",
       "</style>\n",
       "<table border=\"1\" class=\"dataframe\">\n",
       "  <thead>\n",
       "    <tr style=\"text-align: right;\">\n",
       "      <th></th>\n",
       "      <th>001</th>\n",
       "      <th>005</th>\n",
       "      <th>01</th>\n",
       "      <th>03</th>\n",
       "      <th>04</th>\n",
       "      <th>05tg</th>\n",
       "      <th>06</th>\n",
       "      <th>085</th>\n",
       "      <th>099</th>\n",
       "      <th>10</th>\n",
       "      <th>...</th>\n",
       "      <th>yes</th>\n",
       "      <th>york</th>\n",
       "      <th>young</th>\n",
       "      <th>youth</th>\n",
       "      <th>youthful</th>\n",
       "      <th>yuva</th>\n",
       "      <th>zero</th>\n",
       "      <th>zipper</th>\n",
       "      <th>zone</th>\n",
       "      <th>zyxel</th>\n",
       "    </tr>\n",
       "  </thead>\n",
       "  <tbody>\n",
       "    <tr>\n",
       "      <td>0</td>\n",
       "      <td>0.0</td>\n",
       "      <td>0.0</td>\n",
       "      <td>0.0</td>\n",
       "      <td>0.0</td>\n",
       "      <td>0.0</td>\n",
       "      <td>0.0</td>\n",
       "      <td>0.0</td>\n",
       "      <td>0.0</td>\n",
       "      <td>0.0</td>\n",
       "      <td>0.00000</td>\n",
       "      <td>...</td>\n",
       "      <td>0.000000</td>\n",
       "      <td>0.0</td>\n",
       "      <td>0.0</td>\n",
       "      <td>0.0</td>\n",
       "      <td>0.0</td>\n",
       "      <td>0.0</td>\n",
       "      <td>0.0</td>\n",
       "      <td>0.0</td>\n",
       "      <td>0.0</td>\n",
       "      <td>0.0</td>\n",
       "    </tr>\n",
       "    <tr>\n",
       "      <td>1</td>\n",
       "      <td>0.0</td>\n",
       "      <td>0.0</td>\n",
       "      <td>0.0</td>\n",
       "      <td>0.0</td>\n",
       "      <td>0.0</td>\n",
       "      <td>0.0</td>\n",
       "      <td>0.0</td>\n",
       "      <td>0.0</td>\n",
       "      <td>0.0</td>\n",
       "      <td>0.00000</td>\n",
       "      <td>...</td>\n",
       "      <td>0.074495</td>\n",
       "      <td>0.0</td>\n",
       "      <td>0.0</td>\n",
       "      <td>0.0</td>\n",
       "      <td>0.0</td>\n",
       "      <td>0.0</td>\n",
       "      <td>0.0</td>\n",
       "      <td>0.0</td>\n",
       "      <td>0.0</td>\n",
       "      <td>0.0</td>\n",
       "    </tr>\n",
       "    <tr>\n",
       "      <td>2</td>\n",
       "      <td>0.0</td>\n",
       "      <td>0.0</td>\n",
       "      <td>0.0</td>\n",
       "      <td>0.0</td>\n",
       "      <td>0.0</td>\n",
       "      <td>0.0</td>\n",
       "      <td>0.0</td>\n",
       "      <td>0.0</td>\n",
       "      <td>0.0</td>\n",
       "      <td>0.04614</td>\n",
       "      <td>...</td>\n",
       "      <td>0.000000</td>\n",
       "      <td>0.0</td>\n",
       "      <td>0.0</td>\n",
       "      <td>0.0</td>\n",
       "      <td>0.0</td>\n",
       "      <td>0.0</td>\n",
       "      <td>0.0</td>\n",
       "      <td>0.0</td>\n",
       "      <td>0.0</td>\n",
       "      <td>0.0</td>\n",
       "    </tr>\n",
       "    <tr>\n",
       "      <td>3</td>\n",
       "      <td>0.0</td>\n",
       "      <td>0.0</td>\n",
       "      <td>0.0</td>\n",
       "      <td>0.0</td>\n",
       "      <td>0.0</td>\n",
       "      <td>0.0</td>\n",
       "      <td>0.0</td>\n",
       "      <td>0.0</td>\n",
       "      <td>0.0</td>\n",
       "      <td>0.00000</td>\n",
       "      <td>...</td>\n",
       "      <td>0.040360</td>\n",
       "      <td>0.0</td>\n",
       "      <td>0.0</td>\n",
       "      <td>0.0</td>\n",
       "      <td>0.0</td>\n",
       "      <td>0.0</td>\n",
       "      <td>0.0</td>\n",
       "      <td>0.0</td>\n",
       "      <td>0.0</td>\n",
       "      <td>0.0</td>\n",
       "    </tr>\n",
       "    <tr>\n",
       "      <td>4</td>\n",
       "      <td>0.0</td>\n",
       "      <td>0.0</td>\n",
       "      <td>0.0</td>\n",
       "      <td>0.0</td>\n",
       "      <td>0.0</td>\n",
       "      <td>0.0</td>\n",
       "      <td>0.0</td>\n",
       "      <td>0.0</td>\n",
       "      <td>0.0</td>\n",
       "      <td>0.00000</td>\n",
       "      <td>...</td>\n",
       "      <td>0.034580</td>\n",
       "      <td>0.0</td>\n",
       "      <td>0.0</td>\n",
       "      <td>0.0</td>\n",
       "      <td>0.0</td>\n",
       "      <td>0.0</td>\n",
       "      <td>0.0</td>\n",
       "      <td>0.0</td>\n",
       "      <td>0.0</td>\n",
       "      <td>0.0</td>\n",
       "    </tr>\n",
       "  </tbody>\n",
       "</table>\n",
       "<p>5 rows × 2442 columns</p>\n",
       "</div>"
      ],
      "text/plain": [
       "   001  005   01   03   04  05tg   06  085  099       10  ...       yes  york  \\\n",
       "0  0.0  0.0  0.0  0.0  0.0   0.0  0.0  0.0  0.0  0.00000  ...  0.000000   0.0   \n",
       "1  0.0  0.0  0.0  0.0  0.0   0.0  0.0  0.0  0.0  0.00000  ...  0.074495   0.0   \n",
       "2  0.0  0.0  0.0  0.0  0.0   0.0  0.0  0.0  0.0  0.04614  ...  0.000000   0.0   \n",
       "3  0.0  0.0  0.0  0.0  0.0   0.0  0.0  0.0  0.0  0.00000  ...  0.040360   0.0   \n",
       "4  0.0  0.0  0.0  0.0  0.0   0.0  0.0  0.0  0.0  0.00000  ...  0.034580   0.0   \n",
       "\n",
       "   young  youth  youthful  yuva  zero  zipper  zone  zyxel  \n",
       "0    0.0    0.0       0.0   0.0   0.0     0.0   0.0    0.0  \n",
       "1    0.0    0.0       0.0   0.0   0.0     0.0   0.0    0.0  \n",
       "2    0.0    0.0       0.0   0.0   0.0     0.0   0.0    0.0  \n",
       "3    0.0    0.0       0.0   0.0   0.0     0.0   0.0    0.0  \n",
       "4    0.0    0.0       0.0   0.0   0.0     0.0   0.0    0.0  \n",
       "\n",
       "[5 rows x 2442 columns]"
      ]
     },
     "execution_count": 68,
     "metadata": {},
     "output_type": "execute_result"
    }
   ],
   "source": [
    "import operator\n",
    "\n",
    "# build vocab\n",
    "vocab = sorted(\n",
    "    tfidf_matrix_vectorizer.vocabulary_.items(), key=operator.itemgetter(1))\n",
    "\n",
    "# sorted list of words\n",
    "vocab = [word for (word, word_indice) in vocab]\n",
    "\n",
    "# create matrix\n",
    "tfidf_matrix = pd.DataFrame(matrix_dense, columns=vocab)\n",
    "\n",
    "tfidf_matrix.head()"
   ]
  },
  {
   "cell_type": "code",
   "execution_count": 69,
   "metadata": {},
   "outputs": [
    {
     "data": {
      "text/plain": [
       "75"
      ]
     },
     "execution_count": 69,
     "metadata": {},
     "output_type": "execute_result"
    }
   ],
   "source": [
    "np.count_nonzero(tfidf_matrix['mug'], axis=0)"
   ]
  },
  {
   "cell_type": "markdown",
   "metadata": {},
   "source": [
    "! we should try to put our manual pre-processing into sklearn tf-idf vectorization :\n",
    "- token_pattern, to remove numbers (or a specific tokenizer)\n",
    "- custom stop words\n",
    "- max_df : according to our custom stop words (! une vingtaine seulement)\n",
    "- min_df : not calculated yet\n"
   ]
  },
  {
   "cell_type": "code",
   "execution_count": 71,
   "metadata": {
    "scrolled": true
   },
   "outputs": [
    {
     "data": {
      "text/plain": [
       "{'ma897lla',\n",
       " 'palm',\n",
       " 'media',\n",
       " 'suttle',\n",
       " 'tt',\n",
       " 'motif',\n",
       " 'reader',\n",
       " 'proto',\n",
       " '1143',\n",
       " 'copperware',\n",
       " 'g6',\n",
       " 'sparkling',\n",
       " 'ndura',\n",
       " 'pmr1336',\n",
       " 'growing',\n",
       " 'contrl',\n",
       " 'zinc',\n",
       " 'resistence',\n",
       " 'raring',\n",
       " 'sport',\n",
       " 'countrymen',\n",
       " '6949',\n",
       " 'spangle',\n",
       " 'watt',\n",
       " 'revives',\n",
       " '2840',\n",
       " 'cocoa',\n",
       " 'tele',\n",
       " '8097ym03',\n",
       " 'chota',\n",
       " 'result',\n",
       " 'explode',\n",
       " 'polypropylene',\n",
       " 'norms',\n",
       " '460',\n",
       " 'cardiac',\n",
       " 'practical',\n",
       " 'ta',\n",
       " 'spring',\n",
       " 'dungri',\n",
       " '999store',\n",
       " 'faux',\n",
       " '552',\n",
       " 'carrot',\n",
       " '535',\n",
       " 'turtle',\n",
       " 'cranberry',\n",
       " 'priceless',\n",
       " 'amber',\n",
       " '2301',\n",
       " 'tsw',\n",
       " 'marvellous',\n",
       " '2222',\n",
       " 'cancan',\n",
       " 'internal',\n",
       " 'casserole',\n",
       " 'entertaining',\n",
       " 'australian',\n",
       " 'hpl816x3',\n",
       " 'poppins',\n",
       " 'rishan',\n",
       " 'saving',\n",
       " 'aware',\n",
       " 'profiles',\n",
       " '069',\n",
       " 'w6701005',\n",
       " 'grains',\n",
       " 'rked',\n",
       " 'subtype',\n",
       " 'ageless',\n",
       " 'dmk',\n",
       " 'relaxed',\n",
       " 'lice',\n",
       " 'pristine',\n",
       " 'saco',\n",
       " 'numero',\n",
       " 'photography',\n",
       " 'perfrect',\n",
       " 'jeans',\n",
       " 'vajrasattva',\n",
       " 'sos07',\n",
       " 'surgeon',\n",
       " 'chemical',\n",
       " 'compass',\n",
       " '105key',\n",
       " 'correction',\n",
       " '130',\n",
       " 'botanically',\n",
       " 'arnavs',\n",
       " 'jewellary',\n",
       " 'katoch',\n",
       " 'agrees',\n",
       " '90x60',\n",
       " 'fatigue',\n",
       " 'gourmet',\n",
       " 'pschedelic',\n",
       " 'caraway',\n",
       " 'kolaveri',\n",
       " 'connection',\n",
       " 'elevate',\n",
       " 'baba',\n",
       " 'applications',\n",
       " 'caps',\n",
       " '965',\n",
       " '345',\n",
       " 'wax',\n",
       " '816',\n",
       " 'minor',\n",
       " 'perfected',\n",
       " 'ceremonies',\n",
       " 'st1025sl07',\n",
       " 'frizz',\n",
       " 'frenemy',\n",
       " 'hpl836',\n",
       " 'rack',\n",
       " 'bangle',\n",
       " 'houseattire',\n",
       " 'rejuvenative',\n",
       " '10btsc2012gb',\n",
       " '2060',\n",
       " 'mshoppee',\n",
       " 'calories',\n",
       " 'doll',\n",
       " '178',\n",
       " '1705',\n",
       " 'klocx',\n",
       " '656',\n",
       " 'cottion',\n",
       " '1183',\n",
       " 'aurraa',\n",
       " 'yk',\n",
       " '7inch',\n",
       " 'cl',\n",
       " '23x16x33',\n",
       " 'cationic',\n",
       " 'empire',\n",
       " '348',\n",
       " 'everyones',\n",
       " 'forks',\n",
       " 'mornings',\n",
       " 'ki',\n",
       " 'heavier',\n",
       " 'longdress',\n",
       " 'nk',\n",
       " 'mb133ll',\n",
       " 'bianca',\n",
       " 'curling',\n",
       " '5c',\n",
       " 'cmw1670',\n",
       " 'ferrari',\n",
       " 'freezing',\n",
       " 'sunkissed',\n",
       " 'transferable',\n",
       " 'upgrade',\n",
       " 'safari',\n",
       " 'derived',\n",
       " 'hydrate',\n",
       " 'humor',\n",
       " 'lot',\n",
       " '410',\n",
       " 'female',\n",
       " 'probook',\n",
       " 'piyo',\n",
       " 'rishes',\n",
       " 'balaji',\n",
       " 'knit',\n",
       " 'snags',\n",
       " 'geometrical',\n",
       " '170cmx68cm',\n",
       " 'bhagavan',\n",
       " 'yields',\n",
       " 'limitation',\n",
       " '419',\n",
       " 'mats',\n",
       " 'lbp',\n",
       " 'students',\n",
       " 'duster25',\n",
       " 'rituals',\n",
       " 'humid',\n",
       " 'brownish',\n",
       " 'sofab002',\n",
       " '3g',\n",
       " 'scarlet',\n",
       " 'cyminum',\n",
       " 'negativities',\n",
       " 'kaatru',\n",
       " 'ygs',\n",
       " '789',\n",
       " 'exposed',\n",
       " 'rrtc1105sm00',\n",
       " 'generations',\n",
       " 'operations',\n",
       " 'philips',\n",
       " '1075',\n",
       " 'nearby',\n",
       " 'dhurrie',\n",
       " 'aop',\n",
       " 'nature',\n",
       " 'basis',\n",
       " 'lan',\n",
       " 'surrounding',\n",
       " '237mbb',\n",
       " 'airtel',\n",
       " 'mnts',\n",
       " 'painstakingly',\n",
       " 'microfibre',\n",
       " '1195',\n",
       " 'shagun',\n",
       " '867',\n",
       " 'maple',\n",
       " '30c',\n",
       " 'mail',\n",
       " 'grapefruit',\n",
       " 'equinox',\n",
       " 'hooked',\n",
       " 'dv2535tx',\n",
       " 'divine',\n",
       " '78inch',\n",
       " 'superb',\n",
       " 'holds',\n",
       " 'tonneau',\n",
       " '435',\n",
       " 'sq',\n",
       " 'males',\n",
       " '464',\n",
       " 'marketing',\n",
       " '737hre',\n",
       " '404',\n",
       " '960',\n",
       " 'title',\n",
       " 'habit',\n",
       " 'changer',\n",
       " 'ind',\n",
       " 'luck',\n",
       " 'regarded',\n",
       " '8274',\n",
       " 'shankha',\n",
       " 'uniforms',\n",
       " '665',\n",
       " 'lines',\n",
       " 'n31',\n",
       " 'circumference',\n",
       " 'h3ts',\n",
       " 'buddhism',\n",
       " 'd3600',\n",
       " 'mamma',\n",
       " 'gray',\n",
       " 'underneath',\n",
       " 'elf',\n",
       " 'exciting',\n",
       " 'vdsl2',\n",
       " 'aprons',\n",
       " 'idea',\n",
       " 'filament',\n",
       " 'nirlon',\n",
       " 'kamasutra',\n",
       " 'effectiveness',\n",
       " '063',\n",
       " 'w150d',\n",
       " 'doorstep',\n",
       " 'companions',\n",
       " 'pfoa',\n",
       " 'plate',\n",
       " 'elements',\n",
       " 'doctors',\n",
       " 'claw',\n",
       " 'showed',\n",
       " 'concepts',\n",
       " 'density',\n",
       " 'vlcc',\n",
       " 'housewarming',\n",
       " 'lost',\n",
       " 'authentic',\n",
       " 'girlie',\n",
       " 'smoothness',\n",
       " 'applying',\n",
       " 'strain',\n",
       " 'wher',\n",
       " 'outfit',\n",
       " '3749',\n",
       " 'maguey',\n",
       " 'quiet',\n",
       " 'members',\n",
       " 'nx',\n",
       " 'cp',\n",
       " 'pics',\n",
       " 'bd',\n",
       " 'did',\n",
       " 'tells',\n",
       " 'purse',\n",
       " 'sunrise',\n",
       " 'tulip',\n",
       " 'budding',\n",
       " 'applicator',\n",
       " 'formulated',\n",
       " 'bean',\n",
       " 'speaker',\n",
       " 'orico',\n",
       " 'zaicus',\n",
       " 'hindrance',\n",
       " 'quotes',\n",
       " 'easel',\n",
       " 'camera',\n",
       " 'existing',\n",
       " 'temple',\n",
       " 'mayursflora',\n",
       " 'drinking',\n",
       " 'sos',\n",
       " 'durban',\n",
       " '479',\n",
       " 'expandable',\n",
       " 'mars',\n",
       " 'waiter',\n",
       " 'aries',\n",
       " 'paraben',\n",
       " '675',\n",
       " '845',\n",
       " '229',\n",
       " 'illusions',\n",
       " '111',\n",
       " 'crown',\n",
       " 'tresemme',\n",
       " 'aches',\n",
       " '8098ym01',\n",
       " 'promptly',\n",
       " 'altitude',\n",
       " 'aci20160340',\n",
       " 'eureka',\n",
       " 'royle',\n",
       " '591',\n",
       " '1piece',\n",
       " '22mm',\n",
       " 'incolor',\n",
       " 'organization',\n",
       " 'ac68u',\n",
       " 'variation',\n",
       " 'rajesh',\n",
       " '5499',\n",
       " 'fixtures',\n",
       " 'staffs',\n",
       " 'theseuberstylish',\n",
       " 'cushioned',\n",
       " 'adaa',\n",
       " 'custards',\n",
       " 'doubt',\n",
       " 'posay',\n",
       " 'anjalika',\n",
       " 'bobs',\n",
       " 'sits',\n",
       " 'acer',\n",
       " 'transit',\n",
       " 'indha',\n",
       " '2900',\n",
       " 'intrferential',\n",
       " 'times_51',\n",
       " 'bollywood',\n",
       " 'chopra',\n",
       " 'aiding',\n",
       " 'carrier',\n",
       " 'handheld',\n",
       " '669',\n",
       " 'caress',\n",
       " 'n1536',\n",
       " 'pcwbl68',\n",
       " 'babeezworld',\n",
       " 'recrafto',\n",
       " 'catching',\n",
       " 'calendar',\n",
       " 'shimmer',\n",
       " 'patented',\n",
       " 'releases',\n",
       " 'thrade',\n",
       " 'crossed',\n",
       " 'shag',\n",
       " 'avirug85001',\n",
       " 'numbers',\n",
       " 'propylene',\n",
       " 'lantern',\n",
       " 'diwan4',\n",
       " 'radiation',\n",
       " 'mono',\n",
       " 'overnight',\n",
       " '8000',\n",
       " 'throw',\n",
       " '24400',\n",
       " 'swaddle',\n",
       " 'royale',\n",
       " 'evotion',\n",
       " 'maserati',\n",
       " 'nvidia',\n",
       " 'fat',\n",
       " '279',\n",
       " 'tha',\n",
       " 'shoes',\n",
       " 'gm',\n",
       " '472',\n",
       " '407',\n",
       " 'astonishing',\n",
       " 'recently',\n",
       " 'neatly',\n",
       " 'jayenterprise',\n",
       " 'hybrid',\n",
       " 'klein',\n",
       " 'dandruff',\n",
       " 'narmal',\n",
       " 'stored',\n",
       " 'doubled',\n",
       " 'saba',\n",
       " 'confidence',\n",
       " 'save',\n",
       " 'moisture',\n",
       " 'metres',\n",
       " 'agarwood',\n",
       " 'burn',\n",
       " 'dreamt',\n",
       " 'distractions',\n",
       " '4704',\n",
       " 'rani',\n",
       " 'hf45',\n",
       " 'stir',\n",
       " 'parv',\n",
       " '444',\n",
       " 'fairies',\n",
       " 'consultation',\n",
       " 'lp',\n",
       " 'leafs',\n",
       " 'ms',\n",
       " '09321cmgy',\n",
       " 'satellite',\n",
       " 'surprise',\n",
       " '3g300m',\n",
       " 'swhf',\n",
       " 'discourage',\n",
       " 'umbrella',\n",
       " 'n1944_b',\n",
       " 'habitant',\n",
       " 'goldencollections',\n",
       " 'array',\n",
       " 'evenly',\n",
       " 'daal',\n",
       " '21131cpgi',\n",
       " 'evil',\n",
       " '87001sl01',\n",
       " 'cocovey',\n",
       " 'perceive',\n",
       " 'improve',\n",
       " 'h10089',\n",
       " '108',\n",
       " 'jpeg',\n",
       " 'laptops_2',\n",
       " '19883bmli',\n",
       " 'barcode',\n",
       " 'mathematics',\n",
       " 'relationship',\n",
       " '7182wna',\n",
       " 'ornamental',\n",
       " 'jbc',\n",
       " '22m',\n",
       " 'aura',\n",
       " 'muscle',\n",
       " 'matters',\n",
       " 'upset',\n",
       " 'picnic',\n",
       " 'shoperite',\n",
       " 'msenterprises',\n",
       " 'grab',\n",
       " '2004',\n",
       " 'load',\n",
       " 'simulations',\n",
       " 'sweethearts',\n",
       " 'regulate',\n",
       " '252',\n",
       " 'paniarakkal',\n",
       " 'dune',\n",
       " 'abkl_pl_pnk_pnk',\n",
       " 'rmcc709',\n",
       " 'bells',\n",
       " 'seth',\n",
       " 'arabic',\n",
       " 'thigh',\n",
       " '906_blk',\n",
       " 'onlinemaniya',\n",
       " 'pg',\n",
       " 'turmeric',\n",
       " 'symbols',\n",
       " 'bmp',\n",
       " '1234',\n",
       " 'mock',\n",
       " 'radium',\n",
       " '4d',\n",
       " 'fashionin',\n",
       " '1xbattery',\n",
       " 'glycol',\n",
       " 'mills',\n",
       " 'blankets',\n",
       " 'ash',\n",
       " 'ollington',\n",
       " '750ml',\n",
       " 'beyoutiful',\n",
       " 'driver',\n",
       " 'cottn',\n",
       " 'terracotta',\n",
       " 'jewelry',\n",
       " 'goes',\n",
       " 'global',\n",
       " 'ports',\n",
       " 'bathroom',\n",
       " 'compaingns',\n",
       " 'canopy',\n",
       " 'cross',\n",
       " 'botanical',\n",
       " 'ct55',\n",
       " '35blu',\n",
       " 'revered',\n",
       " 'of1',\n",
       " 'lacquered',\n",
       " '915',\n",
       " 'trip',\n",
       " 'surya',\n",
       " '710',\n",
       " 'stripe',\n",
       " 'ironing',\n",
       " 'pie',\n",
       " 'h264',\n",
       " '1038',\n",
       " 'supreme',\n",
       " 'karbonn',\n",
       " 'regent',\n",
       " 'authorized',\n",
       " 'impact',\n",
       " '2445',\n",
       " 'hairit',\n",
       " 'laryngitis',\n",
       " 'prepared',\n",
       " 'sf11',\n",
       " 'tissue',\n",
       " 'sweat',\n",
       " 'dv7t',\n",
       " 'tuktuk',\n",
       " 'pmba1872',\n",
       " 'bsf',\n",
       " 'anniversary',\n",
       " 'collections',\n",
       " '7963pp02',\n",
       " 'shanker',\n",
       " 'pindia',\n",
       " '17321cmly',\n",
       " '12x12',\n",
       " 'singing',\n",
       " 'gridding',\n",
       " 'shoo',\n",
       " 'mfan',\n",
       " 'onle',\n",
       " 'highlighted',\n",
       " 'designers',\n",
       " 'crumble',\n",
       " 'invigorating',\n",
       " 'craftcart',\n",
       " 'wma',\n",
       " 'fork',\n",
       " 'dhokla',\n",
       " 'diffused',\n",
       " 'origin',\n",
       " 'eventually',\n",
       " 'striking',\n",
       " 'attaches',\n",
       " 'eat',\n",
       " 'juicer',\n",
       " 'spacious',\n",
       " 'binatone',\n",
       " 'emotional',\n",
       " 'aarika',\n",
       " '101b0101',\n",
       " 'kandyfloss',\n",
       " 'changes',\n",
       " 'analyzer',\n",
       " '35390',\n",
       " 'abstrcts',\n",
       " 'trendiest',\n",
       " '24742lmgy',\n",
       " 'swaying',\n",
       " 'tufting',\n",
       " 'scheme',\n",
       " 'bankura',\n",
       " 'deity',\n",
       " 'rheumatism',\n",
       " 'bits',\n",
       " 'indicators',\n",
       " 'b00',\n",
       " '1200',\n",
       " 'richfeel',\n",
       " 'holding',\n",
       " 'flap',\n",
       " '800mhz',\n",
       " 'walking',\n",
       " 'colds',\n",
       " 'pos0081',\n",
       " '88tbtsh0385',\n",
       " '896',\n",
       " '929',\n",
       " 'practice',\n",
       " 'currant',\n",
       " 'persnalized',\n",
       " '374',\n",
       " 'carter',\n",
       " '296',\n",
       " 'orientation',\n",
       " '0083',\n",
       " 'amaze',\n",
       " 'rishits',\n",
       " 'removable',\n",
       " 'soul',\n",
       " 'bringing',\n",
       " 'kds',\n",
       " 'rana',\n",
       " 'cq43',\n",
       " 'purposes',\n",
       " 'introducing',\n",
       " 'pirangi',\n",
       " '2520u',\n",
       " 'stripes',\n",
       " 'burt',\n",
       " '2in1',\n",
       " 'financial',\n",
       " 'highlights',\n",
       " 'stylo',\n",
       " 'abilities',\n",
       " 'barometer',\n",
       " 'fabutex',\n",
       " 'vmg1312',\n",
       " 'graco',\n",
       " '14001',\n",
       " 'dell',\n",
       " 'splendor',\n",
       " 'cooked',\n",
       " 'mussel',\n",
       " 'perfact',\n",
       " 'drives',\n",
       " 'bertelin',\n",
       " 'hygiene',\n",
       " 'rosemary',\n",
       " 'inexorably',\n",
       " 'studying',\n",
       " '46',\n",
       " 'chamomile',\n",
       " 'step4deal',\n",
       " '7purple',\n",
       " 'request',\n",
       " '1020el',\n",
       " 'pmr1332',\n",
       " 'possibly',\n",
       " 'a55',\n",
       " 'itouch',\n",
       " 'sdram',\n",
       " 'clip',\n",
       " 'opt',\n",
       " 'neh0012',\n",
       " 'backup',\n",
       " 'sai',\n",
       " 'lga',\n",
       " 'rendition',\n",
       " 'loving',\n",
       " 'compaq',\n",
       " 'directly',\n",
       " 'cookwares',\n",
       " 'nyx',\n",
       " '351',\n",
       " 'upwards',\n",
       " 'cancellation',\n",
       " '1015nr',\n",
       " 'ion',\n",
       " 'functioning',\n",
       " 'anjeer',\n",
       " '278',\n",
       " 'meeting',\n",
       " 'sweetness',\n",
       " 'linksys',\n",
       " 'person',\n",
       " 'laxmi',\n",
       " 'contamination',\n",
       " 'roasters',\n",
       " 'screwdriver',\n",
       " '2999',\n",
       " 'smog',\n",
       " 'y430g',\n",
       " 'kept',\n",
       " 'artisan',\n",
       " 'nestled',\n",
       " 'num',\n",
       " 'magical',\n",
       " 'cups',\n",
       " '1345',\n",
       " 'phones',\n",
       " 'reference',\n",
       " 'coasters',\n",
       " 'rubberized',\n",
       " 'indigocart',\n",
       " 'pgrn01',\n",
       " '588',\n",
       " 'furniture',\n",
       " '7822',\n",
       " 'prevalent',\n",
       " 'times_98',\n",
       " 'alcohol',\n",
       " 'hansen',\n",
       " '395ls',\n",
       " 'stands',\n",
       " '337',\n",
       " 'nightmares',\n",
       " '6950290687051',\n",
       " 'extenders',\n",
       " 'oreal',\n",
       " 'saharanpur',\n",
       " 'tdp',\n",
       " 'twist',\n",
       " 'takes',\n",
       " 'megaway',\n",
       " 'heuer',\n",
       " 'everytime',\n",
       " 'cor',\n",
       " '820',\n",
       " 'adino',\n",
       " 'darwam',\n",
       " 'blast',\n",
       " 'really',\n",
       " 'repeatedly',\n",
       " 'hmtwhq',\n",
       " '240v',\n",
       " 'extends',\n",
       " 'ingredient',\n",
       " 'av',\n",
       " 'inspected',\n",
       " 'extravagant',\n",
       " 'w8970',\n",
       " 'bad',\n",
       " 'myesquire',\n",
       " 'tackle',\n",
       " 'malibu',\n",
       " 'garlic',\n",
       " 'mattegel',\n",
       " 'danger',\n",
       " '1349',\n",
       " 'rage',\n",
       " 'pampers',\n",
       " '08',\n",
       " 'branches',\n",
       " 'throne',\n",
       " 'polymer',\n",
       " 'cocoamido',\n",
       " 'polymers',\n",
       " 'greedy',\n",
       " 'templates',\n",
       " 'mahadev',\n",
       " 'active',\n",
       " 'mediterranean',\n",
       " 'sp',\n",
       " 'raw',\n",
       " 'wave',\n",
       " 'brows',\n",
       " 'keen',\n",
       " 'craftartz',\n",
       " 'girly',\n",
       " 'ireeya',\n",
       " 'gopal',\n",
       " 'ayurveda',\n",
       " 'sorbitol',\n",
       " 'blackled',\n",
       " 'xp',\n",
       " 'napkins',\n",
       " 'repouss',\n",
       " 'nx_7668',\n",
       " '583',\n",
       " 'laddu',\n",
       " 'transcend',\n",
       " 'moisturization',\n",
       " '139',\n",
       " 'educational',\n",
       " 'carbord',\n",
       " 'tempered',\n",
       " 'ecc',\n",
       " 'geol',\n",
       " 'ribs',\n",
       " 'cpu',\n",
       " 'recline',\n",
       " '2pcs',\n",
       " 'abkl_grn_grn_grn',\n",
       " 'definitely',\n",
       " 'scoop',\n",
       " '13400',\n",
       " 'vegetarian',\n",
       " 'sonpra',\n",
       " 'dhyan',\n",
       " 'termite',\n",
       " 'pressure',\n",
       " 'rosewood',\n",
       " 'raised',\n",
       " '4741g',\n",
       " 'tobacco',\n",
       " 'md7822u',\n",
       " 'surahi',\n",
       " 'asiacraft',\n",
       " '7760',\n",
       " 'tritan',\n",
       " 'evolve',\n",
       " 'dos',\n",
       " 'playtime',\n",
       " 'auspicious',\n",
       " 'ski',\n",
       " 'fingertip',\n",
       " 'bone',\n",
       " 'stearic',\n",
       " 'buddhist',\n",
       " '1085',\n",
       " 'fascinates',\n",
       " 'sole',\n",
       " 'collagen',\n",
       " 'pinc',\n",
       " 'rush',\n",
       " 'fans',\n",
       " 'sores',\n",
       " '12v',\n",
       " '593',\n",
       " '85w',\n",
       " 'survive',\n",
       " 'eases',\n",
       " 'string',\n",
       " 'fridge',\n",
       " 'render',\n",
       " 'concept',\n",
       " '281',\n",
       " 'protective',\n",
       " 'megnet',\n",
       " 'clues',\n",
       " 'handpainted',\n",
       " 'gaither',\n",
       " 'cmw1657',\n",
       " 'rows',\n",
       " '476',\n",
       " 'rajlaxmi',\n",
       " 'occupy',\n",
       " 'legends',\n",
       " 'kitchenware',\n",
       " '825000000000001',\n",
       " '02',\n",
       " 'lives',\n",
       " 'lx',\n",
       " 'alteration',\n",
       " 'jhabla',\n",
       " 'mukut',\n",
       " 'connects',\n",
       " 'pile',\n",
       " '8925ym06',\n",
       " 'amplifying',\n",
       " 'altimeter',\n",
       " 'ic',\n",
       " 'balloon',\n",
       " 'slight',\n",
       " 'dohars',\n",
       " 'removing',\n",
       " 'frizzy',\n",
       " 'attached',\n",
       " 'gas',\n",
       " 'gradually',\n",
       " 'giorgio',\n",
       " 'stor',\n",
       " 'boundless',\n",
       " 'moon',\n",
       " 'wants',\n",
       " 'warranties',\n",
       " 'cropped',\n",
       " '556',\n",
       " 'posterchacha',\n",
       " '998',\n",
       " 'recon',\n",
       " 'nutrient',\n",
       " 'purified',\n",
       " 'divx',\n",
       " 'brow',\n",
       " 'wands',\n",
       " 'ounce',\n",
       " 'n1192',\n",
       " 'comprises',\n",
       " 'dat',\n",
       " 'welcomed',\n",
       " 'nosww001',\n",
       " 'smelled',\n",
       " 'mavi',\n",
       " 'observance',\n",
       " 'oudh',\n",
       " 'wrought',\n",
       " 'playing',\n",
       " 'disks',\n",
       " 'zingalalaa',\n",
       " 'click',\n",
       " 'flvi51greenc2x6',\n",
       " 'stuff',\n",
       " 'dimm',\n",
       " 'magan',\n",
       " 'ac121tu',\n",
       " 'u3',\n",
       " 'foil',\n",
       " 'hues',\n",
       " 'bdibb06',\n",
       " '222',\n",
       " 'practiced',\n",
       " 'polishs',\n",
       " 'tracker',\n",
       " 'vsswh001',\n",
       " '939',\n",
       " 'harmful',\n",
       " 'tuft',\n",
       " '2849',\n",
       " 'lilliput',\n",
       " '317',\n",
       " 'coast',\n",
       " 'maker',\n",
       " 'bathmat_ri',\n",
       " 'horizon',\n",
       " 'villages',\n",
       " 'arecaceae',\n",
       " 'blocks',\n",
       " 'adsl2',\n",
       " '60inch',\n",
       " 'bear',\n",
       " 'dra',\n",
       " '150mbps',\n",
       " 'traumatic',\n",
       " '1170',\n",
       " 'stains',\n",
       " 'reflects',\n",
       " 'pipe',\n",
       " '200gsm',\n",
       " 'highlighter',\n",
       " 'ridas',\n",
       " 'accommodate',\n",
       " '1900',\n",
       " 'feels',\n",
       " 'sunshine',\n",
       " 'dholak',\n",
       " 'dilution',\n",
       " 'categories',\n",
       " 'pollution',\n",
       " 'hole',\n",
       " 'visually',\n",
       " '582',\n",
       " 'basra',\n",
       " 'coconut',\n",
       " 'tufts',\n",
       " 'bench',\n",
       " 'foolzy',\n",
       " 'website',\n",
       " 'nandi',\n",
       " '273',\n",
       " 'festival',\n",
       " '825',\n",
       " 'remedy',\n",
       " 'flu',\n",
       " '15000',\n",
       " 'chandeliers',\n",
       " 'pg3',\n",
       " 'linked',\n",
       " 'reigns',\n",
       " 'ployester',\n",
       " 'shopfloor',\n",
       " 'transparency',\n",
       " 'buddhists',\n",
       " 'bhalaria',\n",
       " 'breakage',\n",
       " 'n10e',\n",
       " 'garnier',\n",
       " 'memo',\n",
       " 'nexus',\n",
       " '5004_w',\n",
       " 'rain',\n",
       " 'adjusts',\n",
       " '77',\n",
       " 'authenticity',\n",
       " '2799',\n",
       " 'lcd',\n",
       " 'l08o6c02',\n",
       " 'influenced',\n",
       " 'flaunt',\n",
       " 'aster',\n",
       " 'bhavya',\n",
       " 'tuff',\n",
       " 'dynos',\n",
       " 'bornbabykids',\n",
       " 'fab',\n",
       " 'sternum',\n",
       " 'buffet',\n",
       " 'keystone',\n",
       " 'pose',\n",
       " 'swampy',\n",
       " 'opened',\n",
       " 'bos',\n",
       " 'solidwood',\n",
       " 'rishak',\n",
       " 'fuller',\n",
       " 'secret',\n",
       " 'furnace',\n",
       " ...}"
      ]
     },
     "execution_count": 71,
     "metadata": {},
     "output_type": "execute_result"
    }
   ],
   "source": [
    "tfidf_matrix_vectorizer.stop_words_"
   ]
  },
  {
   "cell_type": "markdown",
   "metadata": {},
   "source": [
    "## LDA "
   ]
  },
  {
   "cell_type": "markdown",
   "metadata": {},
   "source": [
    "build topics out of data"
   ]
  },
  {
   "cell_type": "code",
   "execution_count": 72,
   "metadata": {},
   "outputs": [],
   "source": [
    "from sklearn.feature_extraction.text import CountVectorizer\n",
    "from sklearn.decomposition import LatentDirichletAllocation\n",
    "\n",
    "# create count vectorizer\n",
    "tf_vectorizer = CountVectorizer(\n",
    "    strip_accents='unicode',\n",
    "    lowercase=True,\n",
    "    stop_words='english',\n",
    "    analyzer='word',\n",
    "    max_df=0.8,\n",
    "    min_df=2,\n",
    "    ngram_range=(1, 1),\n",
    ")\n",
    "\n",
    "# Application of the tf-idf vectorizer\n",
    "corpus = data['description']\n",
    "tf = tf_vectorizer.fit_transform(corpus)\n"
   ]
  },
  {
   "cell_type": "code",
   "execution_count": 73,
   "metadata": {},
   "outputs": [
    {
     "data": {
      "text/plain": [
       "LatentDirichletAllocation(learning_method='online', learning_offset=50.0,\n",
       "                          max_iter=5, n_components=7, random_state=0)"
      ]
     },
     "execution_count": 73,
     "metadata": {},
     "output_type": "execute_result"
    }
   ],
   "source": [
    "# try as much topics as first category levels\n",
    "n_topics = 7\n",
    "# Instanciate LDA\n",
    "lda = LatentDirichletAllocation(\n",
    "    n_components=n_topics,\n",
    "    max_iter=5,\n",
    "    learning_method='online',\n",
    "    learning_offset=50.,\n",
    "    random_state=0)\n",
    "# apply lda\n",
    "lda.fit(tf)"
   ]
  },
  {
   "cell_type": "code",
   "execution_count": 74,
   "metadata": {},
   "outputs": [],
   "source": [
    "# to display topics\n",
    "def display_topics(model, feature_names, no_top_words):\n",
    "    for topic_idx, topic in enumerate(model.components_):\n",
    "        print(\"Topic {}:\".format(topic_idx))\n",
    "        print(\" \".join([feature_names[i] for i in topic.argsort()[:-no_top_words - 1:-1]]))"
   ]
  },
  {
   "cell_type": "code",
   "execution_count": 75,
   "metadata": {
    "scrolled": true
   },
   "outputs": [
    {
     "name": "stdout",
     "output_type": "stream",
     "text": [
      "Topic 0:\n",
      "showpiece products brass art price bowl cm gold towel box face set beautiful towels home bath soft bowls ganesha cream\n",
      "Topic 1:\n",
      "adapter battery laptop replacement power quality warranty charger vgn vaio product 19 smartpro 5v usb designed 9a lapguard voltage 75\n",
      "Topic 2:\n",
      "mugs mug perfect bring coffee ceramic love beautifully designed make prithish quality special designs affordable gifts holiday don just sure\n",
      "Topic 3:\n",
      "mug ceramic coffee perfect material home hair product gift price safe design quality tea size loved ml specifications rockmantra exclusive\n",
      "Topic 4:\n",
      "cm features pack specifications general color baby package sales number box type model cotton laptop warranty brand print key fabric\n",
      "Topic 5:\n",
      "products delivery buy genuine shipping cash free 30 day replacement guarantee flipkart com online prices best cm showpiece india watch\n",
      "Topic 6:\n",
      "skin analog watch sticker shapes men combo wall women vinyl laptop set resistant mouse apply great water dial pad free\n"
     ]
    }
   ],
   "source": [
    "# the 7 topics lda way\n",
    "display_topics(lda, tf_vectorizer.get_feature_names(), 20)"
   ]
  },
  {
   "cell_type": "markdown",
   "metadata": {},
   "source": [
    "## NMF (alternative)"
   ]
  },
  {
   "cell_type": "markdown",
   "metadata": {},
   "source": [
    "input : tf_idf matrix (dense or not seems ok)"
   ]
  },
  {
   "cell_type": "code",
   "execution_count": 76,
   "metadata": {},
   "outputs": [],
   "source": [
    "from sklearn.decomposition import NMF"
   ]
  },
  {
   "cell_type": "code",
   "execution_count": 85,
   "metadata": {},
   "outputs": [
    {
     "data": {
      "text/plain": [
       "NMF(alpha=0.1, init='nndsvd', l1_ratio=0.5, n_components=7, random_state=1)"
      ]
     },
     "execution_count": 85,
     "metadata": {},
     "output_type": "execute_result"
    }
   ],
   "source": [
    "# keep same topics size than lvl 1 cat\n",
    "no_topics = 7\n",
    "\n",
    "# create NMF\n",
    "nmf = NMF(\n",
    "    n_components=no_topics,\n",
    "    random_state=1,\n",
    "    alpha=.1,\n",
    "    l1_ratio=.5,\n",
    "    init='nndsvd')\n",
    "\n",
    "# Fitting the model\n",
    "nmf.fit(matrix)\n"
   ]
  },
  {
   "cell_type": "code",
   "execution_count": 86,
   "metadata": {
    "scrolled": true
   },
   "outputs": [
    {
     "name": "stdout",
     "output_type": "stream",
     "text": [
      "Topic 0:\n",
      "com flipkart cash genuine shipping delivery products free buy guarantee 30 replacement day set combo online abstract blanket single double\n",
      "Topic 1:\n",
      "watch analog men discounts india great women sonata online dial maxima strap guarantee 30 replacement com day flipkart boys resistant\n",
      "Topic 2:\n",
      "baby girl details fabric cotton dress boy sleeve neck shirt pattern ideal casual fit printed wash occasion contents general specifications\n",
      "Topic 3:\n",
      "rockmantra mug ceramic stays crafting porcelain thrilling permanent ensuring start creation making years dishwasher exclusive ones come pick microwave fresh\n",
      "Topic 4:\n",
      "showpiece cm prices best online 30 guarantee replacement day kadhai cash shipping genuine delivery buy products free usb led 10\n",
      "Topic 5:\n",
      "cm pack color model warranty features package box design sales inch number polyester material cover multicolor type specifications skin laptop\n",
      "Topic 6:\n",
      "mug coffee ceramic mugs tea perfect printland prithish presented wardrobe morning serve fantastic adorable looks enjoy huge gift ml add\n"
     ]
    }
   ],
   "source": [
    "# the 7 topics nmf way\n",
    "display_topics(nmf, matrix_feature_names, 20)"
   ]
  },
  {
   "cell_type": "code",
   "execution_count": null,
   "metadata": {},
   "outputs": [],
   "source": []
  },
  {
   "cell_type": "code",
   "execution_count": null,
   "metadata": {},
   "outputs": [],
   "source": []
  }
 ],
 "metadata": {
  "kernelspec": {
   "display_name": "Python 3",
   "language": "python",
   "name": "python3"
  },
  "language_info": {
   "codemirror_mode": {
    "name": "ipython",
    "version": 3
   },
   "file_extension": ".py",
   "mimetype": "text/x-python",
   "name": "python",
   "nbconvert_exporter": "python",
   "pygments_lexer": "ipython3",
   "version": "3.7.4"
  },
  "toc": {
   "base_numbering": 1,
   "nav_menu": {},
   "number_sections": false,
   "sideBar": true,
   "skip_h1_title": false,
   "title_cell": "Table of Contents",
   "title_sidebar": "Contents",
   "toc_cell": true,
   "toc_position": {
    "height": "calc(100% - 180px)",
    "left": "10px",
    "top": "150px",
    "width": "374px"
   },
   "toc_section_display": true,
   "toc_window_display": true
  }
 },
 "nbformat": 4,
 "nbformat_minor": 2
}
